{
  "nbformat": 4,
  "nbformat_minor": 0,
  "metadata": {
    "colab": {
      "name": "SentimentAnalysis_Full.ipynb",
      "provenance": [],
      "collapsed_sections": [],
      "toc_visible": true
    },
    "kernelspec": {
      "name": "python3",
      "display_name": "Python 3"
    },
    "accelerator": "GPU"
  },
  "cells": [
    {
      "cell_type": "markdown",
      "metadata": {
        "id": "QskKYEhxDVR7",
        "colab_type": "text"
      },
      "source": [
        "# Importing Dependencies & extracting dataset\n",
        "----\n",
        "This part of the process deals with the _Extraction_ part of the ***E***TL. Firstly, the needed modules will be imported and then the dataset. "
      ]
    },
    {
      "cell_type": "code",
      "metadata": {
        "id": "VZMA3HBobob-",
        "colab_type": "code",
        "colab": {
          "base_uri": "https://localhost:8080/",
          "height": 35
        },
        "outputId": "2c449c60-fad1-4e8b-9d69-bfd951f3942d"
      },
      "source": [
        "%tensorflow_version 2.x\n",
        "import tensorflow as tf\n",
        "device_name = tf.test.gpu_device_name()\n",
        "if device_name != '/device:GPU:0':\n",
        "  raise SystemError('GPU device not found')\n",
        "print('Found GPU at: {}'.format(device_name))\n",
        "\n",
        "import tensorflow_datasets as tfds"
      ],
      "execution_count": 1,
      "outputs": [
        {
          "output_type": "stream",
          "text": [
            "Found GPU at: /device:GPU:0\n"
          ],
          "name": "stdout"
        }
      ]
    },
    {
      "cell_type": "code",
      "metadata": {
        "id": "h-1LqXJ-DXib",
        "colab_type": "code",
        "colab": {
          "base_uri": "https://localhost:8080/",
          "height": 35
        },
        "outputId": "df53aebc-7b5a-4106-f051-368e6845114a"
      },
      "source": [
        "import pandas as pd\n",
        "import numpy as np\n",
        "import re\n",
        "\n",
        "import keras\n",
        "from keras.preprocessing import sequence as seq\n",
        "from keras.models import Sequential\n",
        "from keras.layers import Dense, Dropout, Activation\n",
        "from keras.layers import Embedding\n",
        "from keras.layers import Conv1D, MaxPooling1D, LSTM, GlobalMaxPool1D, SpatialDropout1D, GlobalMaxPooling1D\n",
        "from keras.callbacks import *"
      ],
      "execution_count": 2,
      "outputs": [
        {
          "output_type": "stream",
          "text": [
            "Using TensorFlow backend.\n"
          ],
          "name": "stderr"
        }
      ]
    },
    {
      "cell_type": "code",
      "metadata": {
        "id": "MrXsUDVV8gdd",
        "colab_type": "code",
        "colab": {
          "base_uri": "https://localhost:8080/",
          "height": 126
        },
        "outputId": "efe4f0a3-920a-46cf-a310-f5b992bf2a91"
      },
      "source": [
        "from google.colab import drive\n",
        "\n",
        "drive.mount('/content/gdrive/')"
      ],
      "execution_count": 14,
      "outputs": [
        {
          "output_type": "stream",
          "text": [
            "Go to this URL in a browser: https://accounts.google.com/o/oauth2/auth?client_id=947318989803-6bn6qk8qdgf4n4g3pfee6491hc0brc4i.apps.googleusercontent.com&redirect_uri=urn%3aietf%3awg%3aoauth%3a2.0%3aoob&response_type=code&scope=email%20https%3a%2f%2fwww.googleapis.com%2fauth%2fdocs.test%20https%3a%2f%2fwww.googleapis.com%2fauth%2fdrive%20https%3a%2f%2fwww.googleapis.com%2fauth%2fdrive.photos.readonly%20https%3a%2f%2fwww.googleapis.com%2fauth%2fpeopleapi.readonly\n",
            "\n",
            "Enter your authorization code:\n",
            "··········\n",
            "Mounted at /content/gdrive/\n"
          ],
          "name": "stdout"
        }
      ]
    },
    {
      "cell_type": "code",
      "metadata": {
        "id": "UwffNGcr8qqI",
        "colab_type": "code",
        "colab": {
          "base_uri": "https://localhost:8080/",
          "height": 35
        },
        "outputId": "29279f04-b902-4476-d26f-8243b17902a8"
      },
      "source": [
        "%cd /content/gdrive/My\\ Drive/projects/capstoneIBM"
      ],
      "execution_count": 16,
      "outputs": [
        {
          "output_type": "stream",
          "text": [
            "/content/gdrive/My Drive/projects/capstoneIBM\n"
          ],
          "name": "stdout"
        }
      ]
    },
    {
      "cell_type": "code",
      "metadata": {
        "id": "t5m5kytAEoB2",
        "colab_type": "code",
        "colab": {
          "base_uri": "https://localhost:8080/",
          "height": 337
        },
        "outputId": "6045e211-7080-48e3-bfee-6842210572c5"
      },
      "source": [
        "!rm trainingandtestdata.zip -f\n",
        "!wget http://cs.stanford.edu/people/alecmgo/trainingandtestdata.zip \n",
        "!unzip trainingandtestdata.zip\n",
        "!mv training.1600000.processed.noemoticon.csv sentiment_analysis_trainingset.csv"
      ],
      "execution_count": 3,
      "outputs": [
        {
          "output_type": "stream",
          "text": [
            "--2020-06-29 16:09:15--  http://cs.stanford.edu/people/alecmgo/trainingandtestdata.zip\n",
            "Resolving cs.stanford.edu (cs.stanford.edu)... 171.64.64.64\n",
            "Connecting to cs.stanford.edu (cs.stanford.edu)|171.64.64.64|:80... connected.\n",
            "HTTP request sent, awaiting response... 301 Moved Permanently\n",
            "Location: https://cs.stanford.edu/people/alecmgo/trainingandtestdata.zip [following]\n",
            "--2020-06-29 16:09:15--  https://cs.stanford.edu/people/alecmgo/trainingandtestdata.zip\n",
            "Connecting to cs.stanford.edu (cs.stanford.edu)|171.64.64.64|:443... connected.\n",
            "HTTP request sent, awaiting response... 200 OK\n",
            "Length: 81363704 (78M) [application/zip]\n",
            "Saving to: ‘trainingandtestdata.zip’\n",
            "\n",
            "trainingandtestdata 100%[===================>]  77.59M  60.2MB/s    in 1.3s    \n",
            "\n",
            "2020-06-29 16:09:17 (60.2 MB/s) - ‘trainingandtestdata.zip’ saved [81363704/81363704]\n",
            "\n",
            "Archive:  trainingandtestdata.zip\n",
            "  inflating: testdata.manual.2009.06.14.csv  \n",
            "  inflating: training.1600000.processed.noemoticon.csv  \n"
          ],
          "name": "stdout"
        }
      ]
    },
    {
      "cell_type": "markdown",
      "metadata": {
        "id": "W7q3aFxAFFpw",
        "colab_type": "text"
      },
      "source": [
        "## Loading the dataset into Pandas framework:"
      ]
    },
    {
      "cell_type": "code",
      "metadata": {
        "id": "pqb0Gt2yEzst",
        "colab_type": "code",
        "colab": {}
      },
      "source": [
        "nameColumns = [\"sentiment\", \"id\", \"date\", \"query\", \"user\", \"post\"]\n",
        "\n",
        "fullDataset = pd.read_csv('sentiment_analysis_trainingset.csv', \n",
        "                          header=None, \n",
        "                          names=nameColumns, \n",
        "                          encoding='latin1', \n",
        "                          engine='python')"
      ],
      "execution_count": 4,
      "outputs": []
    },
    {
      "cell_type": "code",
      "metadata": {
        "id": "c5374S5YFB5J",
        "colab_type": "code",
        "colab": {
          "base_uri": "https://localhost:8080/",
          "height": 248
        },
        "outputId": "2ac26507-39ca-43a0-ab22-2a42f1e509ea"
      },
      "source": [
        "fullDataset.info()"
      ],
      "execution_count": 5,
      "outputs": [
        {
          "output_type": "stream",
          "text": [
            "<class 'pandas.core.frame.DataFrame'>\n",
            "RangeIndex: 1600000 entries, 0 to 1599999\n",
            "Data columns (total 6 columns):\n",
            " #   Column     Non-Null Count    Dtype \n",
            "---  ------     --------------    ----- \n",
            " 0   sentiment  1600000 non-null  int64 \n",
            " 1   id         1600000 non-null  int64 \n",
            " 2   date       1600000 non-null  object\n",
            " 3   query      1600000 non-null  object\n",
            " 4   user       1600000 non-null  object\n",
            " 5   post       1600000 non-null  object\n",
            "dtypes: int64(2), object(4)\n",
            "memory usage: 73.2+ MB\n"
          ],
          "name": "stdout"
        }
      ]
    },
    {
      "cell_type": "markdown",
      "metadata": {
        "id": "_fhRflvuFiuF",
        "colab_type": "text"
      },
      "source": [
        "# Tranformations\n",
        "---\n",
        "In this part, we will run the necessary data transformations (E***T***L):"
      ]
    },
    {
      "cell_type": "markdown",
      "metadata": {
        "id": "Q5bQ6ltGHg4s",
        "colab_type": "text"
      },
      "source": [
        "## (re)tagging sentiments\n",
        "Ensure that inputs labels will be `0` or `1`"
      ]
    },
    {
      "cell_type": "code",
      "metadata": {
        "id": "_04GoQhfIDIB",
        "colab_type": "code",
        "colab": {}
      },
      "source": [
        "DatasetLabels = fullDataset.sentiment.values\n",
        "DatasetLabels[DatasetLabels == 4] = 1"
      ],
      "execution_count": 6,
      "outputs": []
    },
    {
      "cell_type": "markdown",
      "metadata": {
        "id": "adFsmfKUGE-y",
        "colab_type": "text"
      },
      "source": [
        "## tweets text treatment\n",
        "Here we will treat the Twitter text posts, to remove all sort of noise and non-essencial for our analysis:"
      ]
    },
    {
      "cell_type": "code",
      "metadata": {
        "id": "Kvj7bKHOFiE4",
        "colab_type": "code",
        "colab": {}
      },
      "source": [
        "def TweetTreament(stringTweet):\n",
        "    tweet = re.sub(r\"https?://[a-zA-Z0-9./]+\", ' ', stringTweet)  # remove the URL links\n",
        "    tweet = re.sub(r\"(w|W){3}[a-zA-Z0-9./]+\", ' ', tweet)         # remove the www references\n",
        "    tweet = re.sub(r\"@[a-zA-Z0-9]+\", ' ', tweet)                  # remove references from accounts/profiles, using @ \n",
        "    tweet = re.sub(r\"[^a-zA-Z.!?']\", ' ', tweet)                  # keep only letters & punctuations marks\n",
        "    tweet = re.sub(r\" +\", ' ', tweet).strip()                     # remove potential excess of whitespaces before, in and after\n",
        "    \n",
        "    return tweet\n",
        "\n",
        "cleanedTweets = [TweetTreament(t) for t in fullDataset.post]"
      ],
      "execution_count": 7,
      "outputs": []
    },
    {
      "cell_type": "markdown",
      "metadata": {
        "id": "nseS2fOfGPTy",
        "colab_type": "text"
      },
      "source": [
        "## tokenization\n",
        "Tokenization is the process of converting each word in a text to an unique number (integer), called tokens. This is a common task in NLP, since computers learn words from numbers, not characters. Luckily, TensorFlow support us with all necessary methods.\n",
        "\n",
        "The method `SubwordTextEncoder.build_from_corpus()` allows us to build a vocabulary using the universe of words in our dataset. \n",
        "\n",
        "The `.encode()` method convert each word in the Tweet into a token. This process is invertible by using `.decode()`.\n"
      ]
    },
    {
      "cell_type": "code",
      "metadata": {
        "id": "l6Vm6_u4GUMC",
        "colab_type": "code",
        "colab": {}
      },
      "source": [
        "targetVocab = 2**16\n",
        "\n",
        "tokenizer = tfds.features.text.SubwordTextEncoder.build_from_corpus(\n",
        "                                          cleanedTweets, \n",
        "                                          target_vocab_size=targetVocab)\n",
        "\n",
        "tokenizedData = [tokenizer.encode(sentence) for sentence in cleanedTweets]"
      ],
      "execution_count": 8,
      "outputs": []
    },
    {
      "cell_type": "markdown",
      "metadata": {
        "id": "W9W7rmkpGfL0",
        "colab_type": "text"
      },
      "source": [
        "> **point of decision:** the vocabulary size is a critical variable, as a large vocabulary size will result in a high number of word embedding parameters in the model, and therefore a large storage or memory. \n",
        "> Searching in Google, we see that a average Englisch speaker knows around 20.000-40.000 words. For our experiment, we will use the `targetVocab = 2**16`, or the most 65.536 important words."
      ]
    },
    {
      "cell_type": "markdown",
      "metadata": {
        "id": "ZucAXkkQGUox",
        "colab_type": "text"
      },
      "source": [
        "## padding\n",
        "Since we will use a Convolutional Neural Network (CNN)  model, padding is required and it improves the model performance.\n",
        "\n",
        "Some tweets have more words than others, and this is where the padding is necessary.\n",
        "\n",
        "We need to have the inputs with the same size, so padding represents the process of normalizing the length for each tokenized tweet by completing it with `0`.\n",
        "\n",
        "Luckily, Keras `sequence.pad_sequences()` does this task for us. For common length (`maxLength`) we will use the maximum length found in our sample. "
      ]
    },
    {
      "cell_type": "code",
      "metadata": {
        "id": "jpyTpfOxI0D7",
        "colab_type": "code",
        "colab": {
          "base_uri": "https://localhost:8080/",
          "height": 35
        },
        "outputId": "e708bb0d-379c-4c7f-ab69-09290418c2c1"
      },
      "source": [
        "maxLength = max([len(p) for p in tokenizedData])\n",
        "\n",
        "paddedData = tf.keras.preprocessing.sequence.pad_sequences(tokenizedData,\n",
        "                                                           value=0,\n",
        "                                                           padding=\"pre\",\n",
        "                                                           maxlen=maxLength)\n",
        "print(maxLength)"
      ],
      "execution_count": 9,
      "outputs": [
        {
          "output_type": "stream",
          "text": [
            "73\n"
          ],
          "name": "stdout"
        }
      ]
    },
    {
      "cell_type": "code",
      "metadata": {
        "id": "LUCmrcsrI3zd",
        "colab_type": "code",
        "colab": {
          "base_uri": "https://localhost:8080/",
          "height": 177
        },
        "outputId": "7a9551ea-4360-4d32-b48b-603731dc55b8"
      },
      "source": [
        "paddedData[0]"
      ],
      "execution_count": 10,
      "outputs": [
        {
          "output_type": "execute_result",
          "data": {
            "text/plain": [
              "array([    0,     0,     0,     0,     0,     0,     0,     0,     0,\n",
              "           0,     0,     0,     0,     0,     0,     0,     0,     0,\n",
              "           0,     0,     0,     0,     0,     0,     0,     0,     0,\n",
              "           0,     0,     0,     0,     0,     0,     0,     0,     0,\n",
              "           0,     0,     0,     0,     0,     0,     0,     0,     0,\n",
              "           0,     0,     0,     0,     0,     0,     0,     0,  1629,\n",
              "         102, 65673,    11,     5,  2776,     2,   138,  5359,    47,\n",
              "        1556, 42791,    16, 13542,   670,     1,    50,    30,     2,\n",
              "       65702], dtype=int32)"
            ]
          },
          "metadata": {
            "tags": []
          },
          "execution_count": 10
        }
      ]
    },
    {
      "cell_type": "markdown",
      "metadata": {
        "id": "vnPngg82I19M",
        "colab_type": "text"
      },
      "source": [
        "# Loading"
      ]
    },
    {
      "cell_type": "markdown",
      "metadata": {
        "id": "3gtUS4PiI-l_",
        "colab_type": "text"
      },
      "source": [
        "## Spliting data into training/testing set\n",
        "As best practice, we will split our dataset in two groups: training set (80%) and testing set (20%)."
      ]
    },
    {
      "cell_type": "code",
      "metadata": {
        "id": "WPG_o4zkJH9t",
        "colab_type": "code",
        "colab": {
          "base_uri": "https://localhost:8080/",
          "height": 355
        },
        "outputId": "6db163ac-0835-438e-9c2e-d44c32becf3f"
      },
      "source": [
        "testSize = int(len(paddedData) * 0.2)\n",
        "print('The testing set has {0} datapoints\\n'.format(testSize))\n",
        "\n",
        "testInputs = paddedData[-testSize:]\n",
        "testLabels = DatasetLabels[-testSize:]\n",
        "trainInputs = paddedData[:-testSize]\n",
        "trainLabels = DatasetLabels[:-testSize]\n",
        "\n",
        "### Checking the shape of the model's inputs and labels \n",
        "print('Size of testing Inputs:', len(testInputs))\n",
        "print('Size of testing Labels:', len(testLabels))\n",
        "print('\\nSize of training Inputs:', len(trainInputs))\n",
        "print('Size of training Inputs:', len(trainLabels))\n",
        "print('\\nFirst observation of training label:', trainLabels[0])\n",
        "print('\\nFirst observation of training inputs:', trainInputs[0])\n",
        "print('\\nTraining inputs shape:', trainInputs[0].shape)"
      ],
      "execution_count": 11,
      "outputs": [
        {
          "output_type": "stream",
          "text": [
            "The testing set has 320000 datapoints\n",
            "\n",
            "Size of testing Inputs: 320000\n",
            "Size of testing Labels: 320000\n",
            "\n",
            "Size of training Inputs: 1280000\n",
            "Size of training Inputs: 1280000\n",
            "\n",
            "First observation of training label: 0\n",
            "\n",
            "First observation of training inputs: [    0     0     0     0     0     0     0     0     0     0     0     0\n",
            "     0     0     0     0     0     0     0     0     0     0     0     0\n",
            "     0     0     0     0     0     0     0     0     0     0     0     0\n",
            "     0     0     0     0     0     0     0     0     0     0     0     0\n",
            "     0     0     0     0     0  1629   102 65673    11     5  2776     2\n",
            "   138  5359    47  1556 42791    16 13542   670     1    50    30     2\n",
            " 65702]\n",
            "\n",
            "Training inputs shape: (73,)\n"
          ],
          "name": "stdout"
        }
      ]
    },
    {
      "cell_type": "markdown",
      "metadata": {
        "id": "ZlQJoZQFMEGm",
        "colab_type": "text"
      },
      "source": [
        "# Model Specification, Training and Evaluation\n"
      ]
    },
    {
      "cell_type": "markdown",
      "metadata": {
        "id": "-E8Vs7cXR_zT",
        "colab_type": "text"
      },
      "source": [
        "## Final model\n",
        "As a baseline model, the Long Short-Term Memory networks (LSTM) was chosen. \n",
        "\n",
        "The LSTM are a special type of Recurrent Neural Networks (RNN). \n",
        "\n",
        "RNNs models for text classification take in consideration not only individual words, but also the order they appear in.\n"
      ]
    },
    {
      "cell_type": "code",
      "metadata": {
        "id": "LiioP9LZR-Ze",
        "colab_type": "code",
        "colab": {}
      },
      "source": [
        "def FinalModel():\n",
        "\n",
        "  max_features = targetVocab\n",
        "  maxlen = maxLength\n",
        "  embedding_size = 128\n",
        "  kernel_size = 5\n",
        "  filters = 64\n",
        "\n",
        "  print('CNN final model building...')\n",
        "  model = Sequential()\n",
        "\n",
        "  model.add(Embedding(max_features, \n",
        "                      embedding_size,\n",
        "                      input_length=maxlen))\n",
        "  model.add(SpatialDropout1D(0.5))\n",
        "  model.add(Conv1D(filters,\n",
        "                  kernel_size,\n",
        "                  padding='same',\n",
        "                  activation='relu',\n",
        "                  strides=1))\n",
        "  model.add(GlobalMaxPooling1D())\n",
        "  model.add(Dense(1024))\n",
        "  model.add(Dropout(0.4))\n",
        "  model.add(Activation('relu'))\n",
        "\n",
        "  model.add(Dense(1))\n",
        "  model.add(Activation('sigmoid'))\n",
        "  \n",
        "  print('Compile CNN final model...')  \n",
        "  model.compile(loss='binary_crossentropy',\n",
        "            optimizer='adam',\n",
        "            metrics=['acc'])\n",
        "\n",
        "  return model"
      ],
      "execution_count": 19,
      "outputs": []
    },
    {
      "cell_type": "markdown",
      "metadata": {
        "id": "KIHU4f8JVfQQ",
        "colab_type": "text"
      },
      "source": [
        "**initialization**"
      ]
    },
    {
      "cell_type": "code",
      "metadata": {
        "id": "FZJyRvHNVc3X",
        "colab_type": "code",
        "colab": {
          "base_uri": "https://localhost:8080/",
          "height": 515
        },
        "outputId": "43983e8e-b9c0-4b1c-cb0e-8abd60c9a136"
      },
      "source": [
        "batch_size = 32\n",
        "epoch = 10\n",
        "\n",
        "finalModel = FinalModel()\n",
        "finalModel.summary()"
      ],
      "execution_count": 22,
      "outputs": [
        {
          "output_type": "stream",
          "text": [
            "CNN final model building...\n",
            "Compile CNN final model...\n",
            "Model: \"sequential_4\"\n",
            "_________________________________________________________________\n",
            "Layer (type)                 Output Shape              Param #   \n",
            "=================================================================\n",
            "embedding_4 (Embedding)      (None, 73, 128)           8388608   \n",
            "_________________________________________________________________\n",
            "spatial_dropout1d_4 (Spatial (None, 73, 128)           0         \n",
            "_________________________________________________________________\n",
            "conv1d_4 (Conv1D)            (None, 73, 64)            41024     \n",
            "_________________________________________________________________\n",
            "global_max_pooling1d_4 (Glob (None, 64)                0         \n",
            "_________________________________________________________________\n",
            "dense_7 (Dense)              (None, 1024)              66560     \n",
            "_________________________________________________________________\n",
            "dropout_4 (Dropout)          (None, 1024)              0         \n",
            "_________________________________________________________________\n",
            "activation_7 (Activation)    (None, 1024)              0         \n",
            "_________________________________________________________________\n",
            "dense_8 (Dense)              (None, 1)                 1025      \n",
            "_________________________________________________________________\n",
            "activation_8 (Activation)    (None, 1)                 0         \n",
            "=================================================================\n",
            "Total params: 8,497,217\n",
            "Trainable params: 8,497,217\n",
            "Non-trainable params: 0\n",
            "_________________________________________________________________\n"
          ],
          "name": "stdout"
        }
      ]
    },
    {
      "cell_type": "markdown",
      "metadata": {
        "id": "OqTLsz-rVpTJ",
        "colab_type": "text"
      },
      "source": [
        "**training**"
      ]
    },
    {
      "cell_type": "code",
      "metadata": {
        "id": "QLfy9tx2Vsml",
        "colab_type": "code",
        "colab": {
          "base_uri": "https://localhost:8080/",
          "height": 801
        },
        "outputId": "4e56bd83-370c-4b06-dd28-938f24754445"
      },
      "source": [
        "checkPath = './checkpoints/cnnFinal-weights-improvement-{epoch:02d}.hdf5'\n",
        "checkpoint = ModelCheckpoint(checkPath, monitor='val_acc', verbose=1, mode='max',save_best_only=True)\n",
        "\n",
        "history = finalModel.fit(trainInputs, trainLabels,\n",
        "          batch_size=batch_size,\n",
        "          epochs=epoch,\n",
        "          validation_data=(testInputs, testLabels),\n",
        "          callbacks = [checkpoint])"
      ],
      "execution_count": 23,
      "outputs": [
        {
          "output_type": "stream",
          "text": [
            "/usr/local/lib/python3.6/dist-packages/tensorflow/python/framework/indexed_slices.py:434: UserWarning: Converting sparse IndexedSlices to a dense Tensor of unknown shape. This may consume a large amount of memory.\n",
            "  \"Converting sparse IndexedSlices to a dense Tensor of unknown shape. \"\n"
          ],
          "name": "stderr"
        },
        {
          "output_type": "stream",
          "text": [
            "Train on 1280000 samples, validate on 320000 samples\n",
            "Epoch 1/10\n",
            "1280000/1280000 [==============================] - 254s 199us/step - loss: 0.4123 - acc: 0.8135 - val_loss: 0.6085 - val_acc: 0.7117\n",
            "\n",
            "Epoch 00001: val_acc improved from -inf to 0.71171, saving model to ./checkpoints/cnnFinal-weights-improvement-01.hdf5\n",
            "Epoch 2/10\n",
            "1280000/1280000 [==============================] - 255s 199us/step - loss: 0.3709 - acc: 0.8382 - val_loss: 0.5976 - val_acc: 0.7473\n",
            "\n",
            "Epoch 00002: val_acc improved from 0.71171 to 0.74725, saving model to ./checkpoints/cnnFinal-weights-improvement-02.hdf5\n",
            "Epoch 3/10\n",
            "1280000/1280000 [==============================] - 255s 199us/step - loss: 0.3546 - acc: 0.8474 - val_loss: 0.5257 - val_acc: 0.7429\n",
            "\n",
            "Epoch 00003: val_acc did not improve from 0.74725\n",
            "Epoch 4/10\n",
            "1280000/1280000 [==============================] - 253s 198us/step - loss: 0.3432 - acc: 0.8537 - val_loss: 0.5886 - val_acc: 0.7409\n",
            "\n",
            "Epoch 00004: val_acc did not improve from 0.74725\n",
            "Epoch 5/10\n",
            "1280000/1280000 [==============================] - 254s 198us/step - loss: 0.3337 - acc: 0.8584 - val_loss: 0.5283 - val_acc: 0.7399\n",
            "\n",
            "Epoch 00005: val_acc did not improve from 0.74725\n",
            "Epoch 6/10\n",
            "1280000/1280000 [==============================] - 253s 198us/step - loss: 0.3247 - acc: 0.8639 - val_loss: 0.5390 - val_acc: 0.7537\n",
            "\n",
            "Epoch 00006: val_acc improved from 0.74725 to 0.75372, saving model to ./checkpoints/cnnFinal-weights-improvement-06.hdf5\n",
            "Epoch 7/10\n",
            "1280000/1280000 [==============================] - 253s 198us/step - loss: 0.3175 - acc: 0.8676 - val_loss: 0.5070 - val_acc: 0.7646\n",
            "\n",
            "Epoch 00007: val_acc improved from 0.75372 to 0.76465, saving model to ./checkpoints/cnnFinal-weights-improvement-07.hdf5\n",
            "Epoch 8/10\n",
            "1280000/1280000 [==============================] - 254s 198us/step - loss: 0.3108 - acc: 0.8712 - val_loss: 0.5983 - val_acc: 0.7452\n",
            "\n",
            "Epoch 00008: val_acc did not improve from 0.76465\n",
            "Epoch 9/10\n",
            "1280000/1280000 [==============================] - 254s 198us/step - loss: 0.3050 - acc: 0.8742 - val_loss: 0.6651 - val_acc: 0.7397\n",
            "\n",
            "Epoch 00009: val_acc did not improve from 0.76465\n",
            "Epoch 10/10\n",
            "1280000/1280000 [==============================] - 256s 200us/step - loss: 0.3002 - acc: 0.8771 - val_loss: 0.5909 - val_acc: 0.7257\n",
            "\n",
            "Epoch 00010: val_acc did not improve from 0.76465\n"
          ],
          "name": "stdout"
        }
      ]
    },
    {
      "cell_type": "markdown",
      "metadata": {
        "id": "EpryDBsyYegr",
        "colab_type": "text"
      },
      "source": [
        "**evalutation**"
      ]
    },
    {
      "cell_type": "code",
      "metadata": {
        "id": "GOsg4yzQVoVh",
        "colab_type": "code",
        "colab": {
          "base_uri": "https://localhost:8080/",
          "height": 88
        },
        "outputId": "4425a7a5-8640-42af-bdfc-c13bc5c2d1bc"
      },
      "source": [
        "lossTrainBase, accTrainBase = finalModel.evaluate(trainInputs, trainLabels, batch_size=batch_size)\n",
        "print(\"The results for the baseline model using under training set have an accuracy of {0} and a loss of {1}\".format(lossTrainBase, accTrainBase))\n",
        "\n",
        "lossTestBase, accTestBase = finalModel.evaluate(testInputs, testLabels, batch_size=batch_size)\n",
        "print(\"The results for the baseline model using under testing set have an accuracy of {0} and a loss of {1}\".format(lossTestBase, accTestBase))"
      ],
      "execution_count": 24,
      "outputs": [
        {
          "output_type": "stream",
          "text": [
            "1280000/1280000 [==============================] - 60s 47us/step\n",
            "The results for the baseline model using under training set have an accuracy of 0.2425200029164087 and a loss of 0.9007124900817871\n",
            "320000/320000 [==============================] - 15s 47us/step\n",
            "The results for the baseline model using under testing set have an accuracy of 0.5908799258053303 and a loss of 0.7256812453269958\n"
          ],
          "name": "stdout"
        }
      ]
    },
    {
      "cell_type": "code",
      "metadata": {
        "id": "KXpSFC_wiye2",
        "colab_type": "code",
        "colab": {
          "base_uri": "https://localhost:8080/",
          "height": 280
        },
        "outputId": "f0f47728-2770-4374-91b4-5339125f064c"
      },
      "source": [
        "import matplotlib.pyplot as plt\n",
        "\n",
        "def PlotEvaluation(history):\n",
        "  plt.style.use('seaborn')\n",
        "  acc = history.history['acc']\n",
        "  val_acc = history.history['val_acc']\n",
        "  loss = history.history['loss']\n",
        "  val_loss = history.history['val_loss']\n",
        "  \n",
        "  x = range(1, len(acc) + 1)\n",
        "\n",
        "  plt.figure(figsize=(18, 4))\n",
        "  plt.subplot(1, 2, 1)\n",
        "  plt.plot(x, acc, 'b', label='Training acc')\n",
        "  plt.plot(x, val_acc, 'r', label='Validation acc')\n",
        "  plt.title('Training and Validation - Accuracy')\n",
        "  plt.xticks(range(1, len(acc)+1, 1))\n",
        "  plt.legend()\n",
        "  plt.subplot(1, 2, 2)\n",
        "  plt.plot(x, loss, 'b', label='Training loss')\n",
        "  plt.plot(x, val_loss, 'r', label='Validation loss')\n",
        "  plt.title('Training and Validation - Loss')\n",
        "  plt.xticks(range(1, len(acc)+1, 1))    \n",
        "  plt.legend()\n",
        "\n",
        "PlotEvaluation (history)"
      ],
      "execution_count": 25,
      "outputs": [
        {
          "output_type": "display_data",
          "data": {
            "image/png": "[encoded data removed]",
            "text/plain": [
              "<Figure size 1296x288 with 2 Axes>"
            ]
          },
          "metadata": {
            "tags": []
          }
        }
      ]
    },
    {
      "cell_type": "markdown",
      "metadata": {
        "id": "I3uHH8D6241l",
        "colab_type": "text"
      },
      "source": [
        "# Deployment and benchmarking\n",
        "As an application and, also to benchmark, the proposed system was compared with a on-market sentiment analysis tool. \n",
        "\n",
        "The NLTK’s VADER (Valence Aware Dictionary and sEntiment Reasoner)* was used for benchmarking: for a sample of sentences, it was tested how both system classify its sentiment.\n"
      ]
    },
    {
      "cell_type": "code",
      "metadata": {
        "id": "JPpN9bWcMNbj",
        "colab_type": "code",
        "colab": {
          "base_uri": "https://localhost:8080/",
          "height": 337
        },
        "outputId": "b0b4d784-655c-43dc-917c-b011029491fc"
      },
      "source": [
        "import nltk\n",
        "nltk.download('vader_lexicon')\n",
        "\n",
        "from nltk.sentiment.vader import SentimentIntensityAnalyzer\n",
        "sid = SentimentIntensityAnalyzer()\n",
        "\n",
        "def textToEmbedding(stringText):\n",
        "  wordToInt = [tokenizer.encode(stringText)]\n",
        "  embedded = tf.keras.preprocessing.sequence.pad_sequences(wordToInt,\n",
        "                                                           value=0,\n",
        "                                                           padding=\"post\",\n",
        "                                                           maxlen=maxLength)\n",
        "  return embedded\n",
        "\n",
        "\n",
        "\n",
        "listSentence = [\"That is not right\",\n",
        "                \"That is fair\",\n",
        "                \"He is cheating on me.\",\n",
        "                \"He is a nice guy\",\n",
        "                \"I like her voice\",\n",
        "                \"She is getting on my nerves\",\n",
        "                \"She is trustful\",\n",
        "                \"He’s absolutely terrified of them\",\n",
        "                \"Big Tech will cause the next market crash\",\n",
        "                \"Big Tech will save the financial markets\",\n",
        "                \"He just does not care\",                                                \n",
        "                \"I cannot say that I liked this movie\",\n",
        "                \"His behavior is not acceptable.\",          \n",
        "                \"Data Science is awesome\",\n",
        "                \"Deep Learning is cool\",                 \n",
        "                \"That was a big waste of my time\"]\n",
        "\n",
        "for sentence in listSentence:\n",
        "  forecast = finalModel.predict(textToEmbedding(sentence))\n",
        "  if forecast[0][0] > 0.5:\n",
        "    print(sentence, 'Positive', '%s' %forecast[0][0], '|%s' %sid.polarity_scores(sentence))\n",
        "  else:\n",
        "    print(sentence, 'Negative', '%s' %forecast[0][0], '|%s' %sid.polarity_scores(sentence))\n",
        "\n",
        "\n"
      ],
      "execution_count": 68,
      "outputs": [
        {
          "output_type": "stream",
          "text": [
            "[nltk_data] Downloading package vader_lexicon to /root/nltk_data...\n",
            "[nltk_data]   Package vader_lexicon is already up-to-date!\n",
            "That is not right Negative 0.08131862 |{'neg': 0.0, 'neu': 1.0, 'pos': 0.0, 'compound': 0.0}\n",
            "That is fair Positive 0.563975 |{'neg': 0.0, 'neu': 0.465, 'pos': 0.535, 'compound': 0.3182}\n",
            "He is cheating on me. Negative 0.026679963 |{'neg': 0.474, 'neu': 0.526, 'pos': 0.0, 'compound': -0.5574}\n",
            "He is a nice guy Positive 0.93541384 |{'neg': 0.0, 'neu': 0.517, 'pos': 0.483, 'compound': 0.4215}\n",
            "I like her voice Positive 0.742467 |{'neg': 0.0, 'neu': 0.444, 'pos': 0.556, 'compound': 0.3612}\n",
            "She is getting on my nerves Negative 0.13213159 |{'neg': 0.219, 'neu': 0.781, 'pos': 0.0, 'compound': -0.1027}\n",
            "She is trustful Positive 0.65043306 |{'neg': 0.0, 'neu': 0.392, 'pos': 0.608, 'compound': 0.4767}\n",
            "He’s absolutely terrified of them Negative 0.06870688 |{'neg': 0.518, 'neu': 0.482, 'pos': 0.0, 'compound': -0.6478}\n",
            "Big Tech will cause the next market crash Negative 0.20734936 |{'neg': 0.278, 'neu': 0.722, 'pos': 0.0, 'compound': -0.4019}\n",
            "Big Tech will save the financial markets Positive 0.69750905 |{'neg': 0.0, 'neu': 0.652, 'pos': 0.348, 'compound': 0.4939}\n",
            "He just does not care Negative 0.39179918 |{'neg': 0.396, 'neu': 0.604, 'pos': 0.0, 'compound': -0.3875}\n",
            "I cannot say that I liked this movie Negative 0.07670053 |{'neg': 0.318, 'neu': 0.682, 'pos': 0.0, 'compound': -0.3252}\n",
            "His behavior is not acceptable. Negative 0.021971948 |{'neg': 0.329, 'neu': 0.671, 'pos': 0.0, 'compound': -0.2411}\n",
            "Data Science is awesome Positive 0.9456688 |{'neg': 0.0, 'neu': 0.423, 'pos': 0.577, 'compound': 0.6249}\n",
            "Deep Learning is cool Positive 0.98030293 |{'neg': 0.0, 'neu': 0.566, 'pos': 0.434, 'compound': 0.3182}\n",
            "That was a big waste of my time Negative 0.15731943 |{'neg': 0.318, 'neu': 0.682, 'pos': 0.0, 'compound': -0.4215}\n"
          ],
          "name": "stdout"
        }
      ]
    }
  ]
}