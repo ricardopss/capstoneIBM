{
  "nbformat": 4,
  "nbformat_minor": 0,
  "metadata": {
    "colab": {
      "name": "SentimentAnalysis.ipynb",
      "provenance": [],
      "collapsed_sections": [],
      "toc_visible": true
    },
    "kernelspec": {
      "name": "python3",
      "display_name": "Python 3"
    },
    "accelerator": "GPU"
  },
  "cells": [
    {
      "cell_type": "markdown",
      "metadata": {
        "id": "QskKYEhxDVR7",
        "colab_type": "text"
      },
      "source": [
        "# Importing Dependencies & extracting dataset\n",
        "----\n",
        "This part of the process deals with the _Extraction_ part of the ***E***TL. Firstly, the needed modules will be imported and then the dataset. "
      ]
    },
    {
      "cell_type": "code",
      "metadata": {
        "id": "VZMA3HBobob-",
        "colab_type": "code",
        "colab": {
          "base_uri": "https://localhost:8080/",
          "height": 35
        },
        "outputId": "4d24492e-e09e-4013-9f42-f432012fa97c"
      },
      "source": [
        "%tensorflow_version 2.x\n",
        "import tensorflow as tf\n",
        "device_name = tf.test.gpu_device_name()\n",
        "if device_name != '/device:GPU:0':\n",
        "  raise SystemError('GPU device not found')\n",
        "print('Found GPU at: {}'.format(device_name))\n",
        "\n",
        "import tensorflow_datasets as tfds"
      ],
      "execution_count": 1,
      "outputs": [
        {
          "output_type": "stream",
          "text": [
            "Found GPU at: /device:GPU:0\n"
          ],
          "name": "stdout"
        }
      ]
    },
    {
      "cell_type": "markdown",
      "metadata": {
        "id": "2dR3j4PO6hF6",
        "colab_type": "text"
      },
      "source": [
        ""
      ]
    },
    {
      "cell_type": "code",
      "metadata": {
        "id": "h-1LqXJ-DXib",
        "colab_type": "code",
        "colab": {
          "base_uri": "https://localhost:8080/",
          "height": 35
        },
        "outputId": "329c1414-937c-4403-8848-c2af249c35a4"
      },
      "source": [
        "import pandas as pd\n",
        "import numpy as np\n",
        "import re\n",
        "\n",
        "import keras\n",
        "from keras.preprocessing import sequence as seq\n",
        "from keras.models import Sequential\n",
        "from keras.layers import Dense, Dropout, Activation\n",
        "from keras.layers import Embedding\n",
        "from keras.layers import Conv1D, MaxPooling1D, LSTM, GlobalMaxPool1D, SpatialDropout1D, GlobalMaxPooling1D\n",
        "from keras.callbacks import *"
      ],
      "execution_count": 2,
      "outputs": [
        {
          "output_type": "stream",
          "text": [
            "Using TensorFlow backend.\n"
          ],
          "name": "stderr"
        }
      ]
    },
    {
      "cell_type": "code",
      "metadata": {
        "id": "TN2EPRakELdX",
        "colab_type": "code",
        "colab": {
          "base_uri": "https://localhost:8080/",
          "height": 547
        },
        "outputId": "707bc6cb-1455-43bd-8acd-6ae9fef11ffb"
      },
      "source": [
        "### In case, one wanted to upload the files to a File Storage (in case Google Drive)\n",
        "from google.colab import drive\n",
        "\n",
        "drive.mount('/content/gdrive/')"
      ],
      "execution_count": 18,
      "outputs": [
        {
          "output_type": "error",
          "ename": "KeyboardInterrupt",
          "evalue": "ignored",
          "traceback": [
            "\u001b[0;31m---------------------------------------------------------------------------\u001b[0m",
            "\u001b[0;31mKeyboardInterrupt\u001b[0m                         Traceback (most recent call last)",
            "\u001b[0;32m/usr/local/lib/python3.6/dist-packages/ipykernel/kernelbase.py\u001b[0m in \u001b[0;36m_input_request\u001b[0;34m(self, prompt, ident, parent, password)\u001b[0m\n\u001b[1;32m    728\u001b[0m             \u001b[0;32mtry\u001b[0m\u001b[0;34m:\u001b[0m\u001b[0;34m\u001b[0m\u001b[0;34m\u001b[0m\u001b[0m\n\u001b[0;32m--> 729\u001b[0;31m                 \u001b[0mident\u001b[0m\u001b[0;34m,\u001b[0m \u001b[0mreply\u001b[0m \u001b[0;34m=\u001b[0m \u001b[0mself\u001b[0m\u001b[0;34m.\u001b[0m\u001b[0msession\u001b[0m\u001b[0;34m.\u001b[0m\u001b[0mrecv\u001b[0m\u001b[0;34m(\u001b[0m\u001b[0mself\u001b[0m\u001b[0;34m.\u001b[0m\u001b[0mstdin_socket\u001b[0m\u001b[0;34m,\u001b[0m \u001b[0;36m0\u001b[0m\u001b[0;34m)\u001b[0m\u001b[0;34m\u001b[0m\u001b[0;34m\u001b[0m\u001b[0m\n\u001b[0m\u001b[1;32m    730\u001b[0m             \u001b[0;32mexcept\u001b[0m \u001b[0mException\u001b[0m\u001b[0;34m:\u001b[0m\u001b[0;34m\u001b[0m\u001b[0;34m\u001b[0m\u001b[0m\n",
            "\u001b[0;32m/usr/local/lib/python3.6/dist-packages/jupyter_client/session.py\u001b[0m in \u001b[0;36mrecv\u001b[0;34m(self, socket, mode, content, copy)\u001b[0m\n\u001b[1;32m    802\u001b[0m         \u001b[0;32mtry\u001b[0m\u001b[0;34m:\u001b[0m\u001b[0;34m\u001b[0m\u001b[0;34m\u001b[0m\u001b[0m\n\u001b[0;32m--> 803\u001b[0;31m             \u001b[0mmsg_list\u001b[0m \u001b[0;34m=\u001b[0m \u001b[0msocket\u001b[0m\u001b[0;34m.\u001b[0m\u001b[0mrecv_multipart\u001b[0m\u001b[0;34m(\u001b[0m\u001b[0mmode\u001b[0m\u001b[0;34m,\u001b[0m \u001b[0mcopy\u001b[0m\u001b[0;34m=\u001b[0m\u001b[0mcopy\u001b[0m\u001b[0;34m)\u001b[0m\u001b[0;34m\u001b[0m\u001b[0;34m\u001b[0m\u001b[0m\n\u001b[0m\u001b[1;32m    804\u001b[0m         \u001b[0;32mexcept\u001b[0m \u001b[0mzmq\u001b[0m\u001b[0;34m.\u001b[0m\u001b[0mZMQError\u001b[0m \u001b[0;32mas\u001b[0m \u001b[0me\u001b[0m\u001b[0;34m:\u001b[0m\u001b[0;34m\u001b[0m\u001b[0;34m\u001b[0m\u001b[0m\n",
            "\u001b[0;32m/usr/local/lib/python3.6/dist-packages/zmq/sugar/socket.py\u001b[0m in \u001b[0;36mrecv_multipart\u001b[0;34m(self, flags, copy, track)\u001b[0m\n\u001b[1;32m    474\u001b[0m         \"\"\"\n\u001b[0;32m--> 475\u001b[0;31m         \u001b[0mparts\u001b[0m \u001b[0;34m=\u001b[0m \u001b[0;34m[\u001b[0m\u001b[0mself\u001b[0m\u001b[0;34m.\u001b[0m\u001b[0mrecv\u001b[0m\u001b[0;34m(\u001b[0m\u001b[0mflags\u001b[0m\u001b[0;34m,\u001b[0m \u001b[0mcopy\u001b[0m\u001b[0;34m=\u001b[0m\u001b[0mcopy\u001b[0m\u001b[0;34m,\u001b[0m \u001b[0mtrack\u001b[0m\u001b[0;34m=\u001b[0m\u001b[0mtrack\u001b[0m\u001b[0;34m)\u001b[0m\u001b[0;34m]\u001b[0m\u001b[0;34m\u001b[0m\u001b[0;34m\u001b[0m\u001b[0m\n\u001b[0m\u001b[1;32m    476\u001b[0m         \u001b[0;31m# have first part already, only loop while more to receive\u001b[0m\u001b[0;34m\u001b[0m\u001b[0;34m\u001b[0m\u001b[0;34m\u001b[0m\u001b[0m\n",
            "\u001b[0;32mzmq/backend/cython/socket.pyx\u001b[0m in \u001b[0;36mzmq.backend.cython.socket.Socket.recv\u001b[0;34m()\u001b[0m\n",
            "\u001b[0;32mzmq/backend/cython/socket.pyx\u001b[0m in \u001b[0;36mzmq.backend.cython.socket.Socket.recv\u001b[0;34m()\u001b[0m\n",
            "\u001b[0;32mzmq/backend/cython/socket.pyx\u001b[0m in \u001b[0;36mzmq.backend.cython.socket._recv_copy\u001b[0;34m()\u001b[0m\n",
            "\u001b[0;32m/usr/local/lib/python3.6/dist-packages/zmq/backend/cython/checkrc.pxd\u001b[0m in \u001b[0;36mzmq.backend.cython.checkrc._check_rc\u001b[0;34m()\u001b[0m\n",
            "\u001b[0;31mKeyboardInterrupt\u001b[0m: ",
            "\nDuring handling of the above exception, another exception occurred:\n",
            "\u001b[0;31mKeyboardInterrupt\u001b[0m                         Traceback (most recent call last)",
            "\u001b[0;32m<ipython-input-18-450b1a295cb1>\u001b[0m in \u001b[0;36m<module>\u001b[0;34m()\u001b[0m\n\u001b[1;32m      2\u001b[0m \u001b[0;32mfrom\u001b[0m \u001b[0mgoogle\u001b[0m\u001b[0;34m.\u001b[0m\u001b[0mcolab\u001b[0m \u001b[0;32mimport\u001b[0m \u001b[0mdrive\u001b[0m\u001b[0;34m\u001b[0m\u001b[0;34m\u001b[0m\u001b[0m\n\u001b[1;32m      3\u001b[0m \u001b[0;34m\u001b[0m\u001b[0m\n\u001b[0;32m----> 4\u001b[0;31m \u001b[0mdrive\u001b[0m\u001b[0;34m.\u001b[0m\u001b[0mmount\u001b[0m\u001b[0;34m(\u001b[0m\u001b[0;34m'/content/gdrive/'\u001b[0m\u001b[0;34m)\u001b[0m\u001b[0;34m\u001b[0m\u001b[0;34m\u001b[0m\u001b[0m\n\u001b[0m",
            "\u001b[0;32m/usr/local/lib/python3.6/dist-packages/google/colab/drive.py\u001b[0m in \u001b[0;36mmount\u001b[0;34m(mountpoint, force_remount, timeout_ms, use_metadata_server)\u001b[0m\n\u001b[1;32m    240\u001b[0m       \u001b[0mauth_prompt\u001b[0m \u001b[0;34m=\u001b[0m \u001b[0md\u001b[0m\u001b[0;34m.\u001b[0m\u001b[0mmatch\u001b[0m\u001b[0;34m.\u001b[0m\u001b[0mgroup\u001b[0m\u001b[0;34m(\u001b[0m\u001b[0;36m1\u001b[0m\u001b[0;34m)\u001b[0m \u001b[0;34m+\u001b[0m \u001b[0;34m'\\nEnter your authorization code:\\n'\u001b[0m\u001b[0;34m\u001b[0m\u001b[0;34m\u001b[0m\u001b[0m\n\u001b[1;32m    241\u001b[0m       \u001b[0;32mwith\u001b[0m \u001b[0mopen\u001b[0m\u001b[0;34m(\u001b[0m\u001b[0mfifo\u001b[0m\u001b[0;34m,\u001b[0m \u001b[0;34m'w'\u001b[0m\u001b[0;34m)\u001b[0m \u001b[0;32mas\u001b[0m \u001b[0mfifo_file\u001b[0m\u001b[0;34m:\u001b[0m\u001b[0;34m\u001b[0m\u001b[0;34m\u001b[0m\u001b[0m\n\u001b[0;32m--> 242\u001b[0;31m         \u001b[0mfifo_file\u001b[0m\u001b[0;34m.\u001b[0m\u001b[0mwrite\u001b[0m\u001b[0;34m(\u001b[0m\u001b[0m_getpass\u001b[0m\u001b[0;34m.\u001b[0m\u001b[0mgetpass\u001b[0m\u001b[0;34m(\u001b[0m\u001b[0mauth_prompt\u001b[0m\u001b[0;34m)\u001b[0m \u001b[0;34m+\u001b[0m \u001b[0;34m'\\n'\u001b[0m\u001b[0;34m)\u001b[0m\u001b[0;34m\u001b[0m\u001b[0;34m\u001b[0m\u001b[0m\n\u001b[0m\u001b[1;32m    243\u001b[0m       \u001b[0mwrote_to_fifo\u001b[0m \u001b[0;34m=\u001b[0m \u001b[0;32mTrue\u001b[0m\u001b[0;34m\u001b[0m\u001b[0;34m\u001b[0m\u001b[0m\n\u001b[1;32m    244\u001b[0m   \u001b[0;32mif\u001b[0m \u001b[0;32mnot\u001b[0m \u001b[0mwrote_to_fifo\u001b[0m\u001b[0;34m:\u001b[0m\u001b[0;34m\u001b[0m\u001b[0;34m\u001b[0m\u001b[0m\n",
            "\u001b[0;32m/usr/local/lib/python3.6/dist-packages/ipykernel/kernelbase.py\u001b[0m in \u001b[0;36mgetpass\u001b[0;34m(self, prompt, stream)\u001b[0m\n\u001b[1;32m    685\u001b[0m             \u001b[0mself\u001b[0m\u001b[0;34m.\u001b[0m\u001b[0m_parent_ident\u001b[0m\u001b[0;34m,\u001b[0m\u001b[0;34m\u001b[0m\u001b[0;34m\u001b[0m\u001b[0m\n\u001b[1;32m    686\u001b[0m             \u001b[0mself\u001b[0m\u001b[0;34m.\u001b[0m\u001b[0m_parent_header\u001b[0m\u001b[0;34m,\u001b[0m\u001b[0;34m\u001b[0m\u001b[0;34m\u001b[0m\u001b[0m\n\u001b[0;32m--> 687\u001b[0;31m             \u001b[0mpassword\u001b[0m\u001b[0;34m=\u001b[0m\u001b[0;32mTrue\u001b[0m\u001b[0;34m,\u001b[0m\u001b[0;34m\u001b[0m\u001b[0;34m\u001b[0m\u001b[0m\n\u001b[0m\u001b[1;32m    688\u001b[0m         )\n\u001b[1;32m    689\u001b[0m \u001b[0;34m\u001b[0m\u001b[0m\n",
            "\u001b[0;32m/usr/local/lib/python3.6/dist-packages/ipykernel/kernelbase.py\u001b[0m in \u001b[0;36m_input_request\u001b[0;34m(self, prompt, ident, parent, password)\u001b[0m\n\u001b[1;32m    732\u001b[0m             \u001b[0;32mexcept\u001b[0m \u001b[0mKeyboardInterrupt\u001b[0m\u001b[0;34m:\u001b[0m\u001b[0;34m\u001b[0m\u001b[0;34m\u001b[0m\u001b[0m\n\u001b[1;32m    733\u001b[0m                 \u001b[0;31m# re-raise KeyboardInterrupt, to truncate traceback\u001b[0m\u001b[0;34m\u001b[0m\u001b[0;34m\u001b[0m\u001b[0;34m\u001b[0m\u001b[0m\n\u001b[0;32m--> 734\u001b[0;31m                 \u001b[0;32mraise\u001b[0m \u001b[0mKeyboardInterrupt\u001b[0m\u001b[0;34m\u001b[0m\u001b[0;34m\u001b[0m\u001b[0m\n\u001b[0m\u001b[1;32m    735\u001b[0m             \u001b[0;32melse\u001b[0m\u001b[0;34m:\u001b[0m\u001b[0;34m\u001b[0m\u001b[0;34m\u001b[0m\u001b[0m\n\u001b[1;32m    736\u001b[0m                 \u001b[0;32mbreak\u001b[0m\u001b[0;34m\u001b[0m\u001b[0;34m\u001b[0m\u001b[0m\n",
            "\u001b[0;31mKeyboardInterrupt\u001b[0m: "
          ]
        }
      ]
    },
    {
      "cell_type": "code",
      "metadata": {
        "id": "DlEkmzOTEbBz",
        "colab_type": "code",
        "colab": {
          "base_uri": "https://localhost:8080/",
          "height": 52
        },
        "outputId": "93b5c884-58c4-4819-eee9-28caf0a026b8"
      },
      "source": [
        "### Some commands to create directory structure and rename file - already executed in the Data Exploration Notebook\n",
        "# %cd /content/gdrive/My\\ Drive\n",
        "# !rm -r projects\n",
        "# !mkdir projects\n",
        "# !mkdir projects/capstone\n",
        "# !mkdir projects/capstone/checkpoints\n",
        "%cd /content/gdrive/My\\ Drive/projects/capstone"
      ],
      "execution_count": 16,
      "outputs": [
        {
          "output_type": "stream",
          "text": [
            "[Errno 2] No such file or directory: '/content/gdrive/My Drive/projects/capstone'\n",
            "/content\n"
          ],
          "name": "stdout"
        }
      ]
    },
    {
      "cell_type": "code",
      "metadata": {
        "id": "t5m5kytAEoB2",
        "colab_type": "code",
        "colab": {
          "base_uri": "https://localhost:8080/",
          "height": 337
        },
        "outputId": "69b983f7-9245-4ff6-e113-9564c38dc911"
      },
      "source": [
        "### Already executed in the Data Exploration Notebook\n",
        "!rm trainingandtestdata.zip -f\n",
        "!wget http://cs.stanford.edu/people/alecmgo/trainingandtestdata.zip \n",
        "!unzip trainingandtestdata.zip\n",
        "!mv training.1600000.processed.noemoticon.csv sentiment_analysis_trainingset.csv"
      ],
      "execution_count": 3,
      "outputs": [
        {
          "output_type": "stream",
          "text": [
            "--2020-06-29 16:44:51--  http://cs.stanford.edu/people/alecmgo/trainingandtestdata.zip\n",
            "Resolving cs.stanford.edu (cs.stanford.edu)... 171.64.64.64\n",
            "Connecting to cs.stanford.edu (cs.stanford.edu)|171.64.64.64|:80... connected.\n",
            "HTTP request sent, awaiting response... 301 Moved Permanently\n",
            "Location: https://cs.stanford.edu/people/alecmgo/trainingandtestdata.zip [following]\n",
            "--2020-06-29 16:44:52--  https://cs.stanford.edu/people/alecmgo/trainingandtestdata.zip\n",
            "Connecting to cs.stanford.edu (cs.stanford.edu)|171.64.64.64|:443... connected.\n",
            "HTTP request sent, awaiting response... 200 OK\n",
            "Length: 81363704 (78M) [application/zip]\n",
            "Saving to: ‘trainingandtestdata.zip’\n",
            "\n",
            "trainingandtestdata 100%[===================>]  77.59M  20.7MB/s    in 4.6s    \n",
            "\n",
            "2020-06-29 16:44:57 (16.9 MB/s) - ‘trainingandtestdata.zip’ saved [81363704/81363704]\n",
            "\n",
            "Archive:  trainingandtestdata.zip\n",
            "  inflating: testdata.manual.2009.06.14.csv  \n",
            "  inflating: training.1600000.processed.noemoticon.csv  \n"
          ],
          "name": "stdout"
        }
      ]
    },
    {
      "cell_type": "markdown",
      "metadata": {
        "id": "W7q3aFxAFFpw",
        "colab_type": "text"
      },
      "source": [
        "## Loading the dataset into Pandas framework:"
      ]
    },
    {
      "cell_type": "code",
      "metadata": {
        "id": "pqb0Gt2yEzst",
        "colab_type": "code",
        "colab": {}
      },
      "source": [
        "nameColumns = [\"sentiment\", \"id\", \"date\", \"query\", \"user\", \"post\"]\n",
        "\n",
        "fullDataset = pd.read_csv('sentiment_analysis_trainingset.csv', \n",
        "                          header=None, \n",
        "                          names=nameColumns, \n",
        "                          encoding='latin1', \n",
        "                          engine='python')"
      ],
      "execution_count": 4,
      "outputs": []
    },
    {
      "cell_type": "code",
      "metadata": {
        "id": "c5374S5YFB5J",
        "colab_type": "code",
        "colab": {
          "base_uri": "https://localhost:8080/",
          "height": 266
        },
        "outputId": "e686a836-fea2-4bae-b9d6-0ab74c55bdc3"
      },
      "source": [
        "print(fullDataset.info())"
      ],
      "execution_count": 5,
      "outputs": [
        {
          "output_type": "stream",
          "text": [
            "<class 'pandas.core.frame.DataFrame'>\n",
            "RangeIndex: 1600000 entries, 0 to 1599999\n",
            "Data columns (total 6 columns):\n",
            " #   Column     Non-Null Count    Dtype \n",
            "---  ------     --------------    ----- \n",
            " 0   sentiment  1600000 non-null  int64 \n",
            " 1   id         1600000 non-null  int64 \n",
            " 2   date       1600000 non-null  object\n",
            " 3   query      1600000 non-null  object\n",
            " 4   user       1600000 non-null  object\n",
            " 5   post       1600000 non-null  object\n",
            "dtypes: int64(2), object(4)\n",
            "memory usage: 73.2+ MB\n",
            "None\n"
          ],
          "name": "stdout"
        }
      ]
    },
    {
      "cell_type": "markdown",
      "metadata": {
        "id": "FQ1o2ZRoFSFM",
        "colab_type": "text"
      },
      "source": [
        "## Initial sampling\n",
        "In order to gain time-efficiency, a random sample was extracted from the 1.6MM datapoints.\n"
      ]
    },
    {
      "cell_type": "code",
      "metadata": {
        "id": "IyQBo5wqFTRv",
        "colab_type": "code",
        "colab": {
          "base_uri": "https://localhost:8080/",
          "height": 248
        },
        "outputId": "d9033721-9da1-4d0f-c2c3-583be6f5c36c"
      },
      "source": [
        "sampleDataset = fullDataset.sample(frac=0.1, replace = None, random_state=300)\n",
        "sampleDataset.index = range(len(sampleDataset))\n",
        "sampleDataset.info()"
      ],
      "execution_count": 6,
      "outputs": [
        {
          "output_type": "stream",
          "text": [
            "<class 'pandas.core.frame.DataFrame'>\n",
            "RangeIndex: 160000 entries, 0 to 159999\n",
            "Data columns (total 6 columns):\n",
            " #   Column     Non-Null Count   Dtype \n",
            "---  ------     --------------   ----- \n",
            " 0   sentiment  160000 non-null  int64 \n",
            " 1   id         160000 non-null  int64 \n",
            " 2   date       160000 non-null  object\n",
            " 3   query      160000 non-null  object\n",
            " 4   user       160000 non-null  object\n",
            " 5   post       160000 non-null  object\n",
            "dtypes: int64(2), object(4)\n",
            "memory usage: 7.3+ MB\n"
          ],
          "name": "stdout"
        }
      ]
    },
    {
      "cell_type": "markdown",
      "metadata": {
        "id": "_fhRflvuFiuF",
        "colab_type": "text"
      },
      "source": [
        "# Tranformations\n",
        "---\n",
        "In this part, we will run the necessary data transformations (E***T***L):"
      ]
    },
    {
      "cell_type": "markdown",
      "metadata": {
        "id": "Q5bQ6ltGHg4s",
        "colab_type": "text"
      },
      "source": [
        "## (re)tagging sentiments\n",
        "Ensure that inputs labels will be `0` or `1`"
      ]
    },
    {
      "cell_type": "code",
      "metadata": {
        "id": "_04GoQhfIDIB",
        "colab_type": "code",
        "colab": {}
      },
      "source": [
        "sampleDatasetLabels = sampleDataset.sentiment.values\n",
        "sampleDatasetLabels[sampleDatasetLabels == 4] = 1"
      ],
      "execution_count": 7,
      "outputs": []
    },
    {
      "cell_type": "markdown",
      "metadata": {
        "id": "adFsmfKUGE-y",
        "colab_type": "text"
      },
      "source": [
        "## tweets text treatment\n",
        "Here we will treat the Twitter text posts, to remove all sort of noise and non-essencial for our analysis:"
      ]
    },
    {
      "cell_type": "code",
      "metadata": {
        "id": "Kvj7bKHOFiE4",
        "colab_type": "code",
        "colab": {}
      },
      "source": [
        "def TweetTreament(stringTweet):\n",
        "    tweet = re.sub(r\"https?://[a-zA-Z0-9./]+\", ' ', stringTweet)  # remove the URL links\n",
        "    tweet = re.sub(r\"(w|W){3}[a-zA-Z0-9./]+\", ' ', tweet)         # remove the www references\n",
        "    tweet = re.sub(r\"@[a-zA-Z0-9]+\", ' ', tweet)                  # remove references from accounts/profiles, using @ \n",
        "    tweet = re.sub(r\"[^a-zA-Z.!?']\", ' ', tweet)                  # keep only letters & punctuations marks\n",
        "    tweet = re.sub(r\" +\", ' ', tweet).strip()                     # remove potential excess of whitespaces before, in and after\n",
        "    \n",
        "    return tweet\n",
        "\n",
        "cleanedTweets = [TweetTreament(t) for t in sampleDataset.post]"
      ],
      "execution_count": 8,
      "outputs": []
    },
    {
      "cell_type": "markdown",
      "metadata": {
        "id": "nseS2fOfGPTy",
        "colab_type": "text"
      },
      "source": [
        "## tokenization\n",
        "Tokenization is the process of converting each word in a text to an unique number (integer), called tokens. This is a common task in NLP, since computers learn words from numbers, not characters. Luckily, TensorFlow support us with all necessary methods.\n",
        "\n",
        "The method `SubwordTextEncoder.build_from_corpus()` allows us to build a vocabulary using the universe of words in our dataset. \n",
        "\n",
        "The `.encode()` method convert each word in the Tweet into a token. This process is invertible by using `.decode()`.\n"
      ]
    },
    {
      "cell_type": "code",
      "metadata": {
        "id": "l6Vm6_u4GUMC",
        "colab_type": "code",
        "colab": {}
      },
      "source": [
        "targetVocab = 2**16\n",
        "\n",
        "tokenizer = tfds.features.text.SubwordTextEncoder.build_from_corpus(\n",
        "                                          cleanedTweets, \n",
        "                                          target_vocab_size=targetVocab)\n",
        "\n",
        "tokenizedData = [tokenizer.encode(sentence) for sentence in cleanedTweets]"
      ],
      "execution_count": 9,
      "outputs": []
    },
    {
      "cell_type": "markdown",
      "metadata": {
        "id": "W9W7rmkpGfL0",
        "colab_type": "text"
      },
      "source": [
        "> **point of decision:** the vocabulary size is a critical variable, as a large vocabulary size will result in a high number of word embedding parameters in the model, and therefore a large storage or memory. \n",
        "> Searching in Google, we see that a average Englisch speaker knows around 20.000-40.000 words. For our experiment, we will use the `targetVocab = 2**16`, or the most 65.536 important words."
      ]
    },
    {
      "cell_type": "markdown",
      "metadata": {
        "id": "ZucAXkkQGUox",
        "colab_type": "text"
      },
      "source": [
        "## padding\n",
        "Since we will use a Convolutional Neural Network (CNN)  model, padding is required and it improves the model performance.\n",
        "\n",
        "Some tweets have more words than others, and this is where the padding is necessary.\n",
        "\n",
        "We need to have the inputs with the same size, so padding represents the process of normalizing the length for each tokenized tweet by completing it with `0`.\n",
        "\n",
        "Luckily, Keras `sequence.pad_sequences()` does this task for us. For common length (`maxLength`) we will use the maximum length found in our sample. "
      ]
    },
    {
      "cell_type": "code",
      "metadata": {
        "id": "jpyTpfOxI0D7",
        "colab_type": "code",
        "colab": {
          "base_uri": "https://localhost:8080/",
          "height": 35
        },
        "outputId": "66bb760c-e73c-4084-db15-903d517732a6"
      },
      "source": [
        "maxLength = max([len(p) for p in tokenizedData])\n",
        "\n",
        "paddedData = tf.keras.preprocessing.sequence.pad_sequences(tokenizedData,\n",
        "                                                           value=0,\n",
        "                                                           padding=\"pre\",\n",
        "                                                           maxlen=maxLength)\n",
        "print(maxLength)"
      ],
      "execution_count": 10,
      "outputs": [
        {
          "output_type": "stream",
          "text": [
            "58\n"
          ],
          "name": "stdout"
        }
      ]
    },
    {
      "cell_type": "code",
      "metadata": {
        "id": "LUCmrcsrI3zd",
        "colab_type": "code",
        "colab": {
          "base_uri": "https://localhost:8080/",
          "height": 141
        },
        "outputId": "13b225b9-b2b4-4442-b622-5ab0688f9213"
      },
      "source": [
        "paddedData[0]"
      ],
      "execution_count": null,
      "outputs": [
        {
          "output_type": "execute_result",
          "data": {
            "text/plain": [
              "array([    0,     0,     0,     0,     0,     0,     0,     0,     0,\n",
              "           0,     0,     0,     0,     0,     0,     0,     0,     0,\n",
              "           0,     0,     0,     0,     0,     0,     0,     0,     0,\n",
              "           0,     0,     0,     0,     0,     0,     0,     0,     0,\n",
              "           0,     0,     0,     0,     0,     0,     0,     0,     0,\n",
              "           0,     0,     0,     0,     0,     0,     0,   774,  5919,\n",
              "         589,   208,    86, 53975], dtype=int32)"
            ]
          },
          "metadata": {
            "tags": []
          },
          "execution_count": 14
        }
      ]
    },
    {
      "cell_type": "markdown",
      "metadata": {
        "id": "vnPngg82I19M",
        "colab_type": "text"
      },
      "source": [
        "# Loading"
      ]
    },
    {
      "cell_type": "markdown",
      "metadata": {
        "id": "3gtUS4PiI-l_",
        "colab_type": "text"
      },
      "source": [
        "## Spliting data into training/testing set\n",
        "As best practice, we will split our dataset in two groups: training set (80%) and testing set (20%)."
      ]
    },
    {
      "cell_type": "code",
      "metadata": {
        "id": "WPG_o4zkJH9t",
        "colab_type": "code",
        "colab": {
          "base_uri": "https://localhost:8080/",
          "height": 319
        },
        "outputId": "20dbce2e-6452-43f3-aa55-fce7c9929fe8"
      },
      "source": [
        "testSize = int(len(paddedData) * 0.2)\n",
        "print('The testing set has {0} datapoints\\n'.format(testSize))\n",
        "\n",
        "testInputs = paddedData[-testSize:]\n",
        "testLabels = sampleDatasetLabels[-testSize:]\n",
        "trainInputs = paddedData[:-testSize]\n",
        "trainLabels = sampleDatasetLabels[:-testSize]\n",
        "\n",
        "### Checking the shape of the model's inputs and labels \n",
        "print('Size of testing Inputs:', len(testInputs))\n",
        "print('Size of testing Labels:', len(testLabels))\n",
        "print('\\nSize of training Inputs:', len(trainInputs))\n",
        "print('Size of training Inputs:', len(trainLabels))\n",
        "print('\\nFirst observation of training label:', trainLabels[0])\n",
        "print('\\nFirst observation of training inputs:', trainInputs[0])\n",
        "print('\\nTraining inputs shape:', trainInputs[0].shape)"
      ],
      "execution_count": 12,
      "outputs": [
        {
          "output_type": "stream",
          "text": [
            "The testing set has 32000 datapoints\n",
            "\n",
            "Size of testing Inputs: 32000\n",
            "Size of testing Labels: 32000\n",
            "\n",
            "Size of training Inputs: 128000\n",
            "Size of training Inputs: 128000\n",
            "\n",
            "First observation of training label: 1\n",
            "\n",
            "First observation of training inputs: [    0     0     0     0     0     0     0     0     0     0     0     0\n",
            "     0     0     0     0     0     0     0     0     0     0     0     0\n",
            "     0     0     0     0     0     0     0     0     0     0     0     0\n",
            "     0     0     0     0     0     0     0     0     0     0     0     0\n",
            "     0     0     0     0   774  5919   589   208    86 53975]\n",
            "\n",
            "Training inputs shape: (58,)\n"
          ],
          "name": "stdout"
        }
      ]
    },
    {
      "cell_type": "markdown",
      "metadata": {
        "id": "ZlQJoZQFMEGm",
        "colab_type": "text"
      },
      "source": [
        "# Model Specification, Training and Evaluation\n",
        "This section we will present the baseline model (LSTM) and two challenging models (CNN and the hybrid CNN-LSTM)"
      ]
    },
    {
      "cell_type": "markdown",
      "metadata": {
        "id": "-E8Vs7cXR_zT",
        "colab_type": "text"
      },
      "source": [
        "## Baseline model\n",
        "As a baseline model, the Long Short-Term Memory networks (LSTM) was chosen. \n",
        "\n",
        "The LSTM are a special type of Recurrent Neural Networks (RNN). \n",
        "\n",
        "RNNs models for text classification take in consideration not only individual words, but also the order they appear in.\n"
      ]
    },
    {
      "cell_type": "code",
      "metadata": {
        "id": "LiioP9LZR-Ze",
        "colab_type": "code",
        "colab": {}
      },
      "source": [
        "def BaselineModel():\n",
        "  max_features = targetVocab\n",
        "  maxlen = maxLength\n",
        "  embedding_size = 128\n",
        "\n",
        "  print('Baseline model building...')\n",
        "  model = Sequential()\n",
        "\n",
        "  model.add(Embedding(max_features, \n",
        "                      embedding_size,\n",
        "                      input_length=maxlen))\n",
        "  model.add(LSTM(128,dropout=0.2))\n",
        "  \n",
        "  model.add(Dense(1))\n",
        "  model.add(Activation('sigmoid'))\n",
        "  \n",
        "  print('Compile baseline model...')  \n",
        "  model.compile(loss='binary_crossentropy',\n",
        "            optimizer='adam',\n",
        "            metrics=['acc'])\n",
        "\n",
        "  return model"
      ],
      "execution_count": 13,
      "outputs": []
    },
    {
      "cell_type": "markdown",
      "metadata": {
        "id": "KIHU4f8JVfQQ",
        "colab_type": "text"
      },
      "source": [
        "**initialization**"
      ]
    },
    {
      "cell_type": "code",
      "metadata": {
        "id": "FZJyRvHNVc3X",
        "colab_type": "code",
        "colab": {
          "base_uri": "https://localhost:8080/",
          "height": 337
        },
        "outputId": "10ca0ae6-c379-45e0-c234-5038cc69c60b"
      },
      "source": [
        "batch_size = 32\n",
        "epoch = 10\n",
        "\n",
        "baselineModel = BaselineModel()\n",
        "baselineModel.summary()"
      ],
      "execution_count": 14,
      "outputs": [
        {
          "output_type": "stream",
          "text": [
            "Baseline model building...\n",
            "Compile baseline model...\n",
            "Model: \"sequential_1\"\n",
            "_________________________________________________________________\n",
            "Layer (type)                 Output Shape              Param #   \n",
            "=================================================================\n",
            "embedding_1 (Embedding)      (None, 58, 128)           8388608   \n",
            "_________________________________________________________________\n",
            "lstm_1 (LSTM)                (None, 128)               131584    \n",
            "_________________________________________________________________\n",
            "dense_1 (Dense)              (None, 1)                 129       \n",
            "_________________________________________________________________\n",
            "activation_1 (Activation)    (None, 1)                 0         \n",
            "=================================================================\n",
            "Total params: 8,520,321\n",
            "Trainable params: 8,520,321\n",
            "Non-trainable params: 0\n",
            "_________________________________________________________________\n"
          ],
          "name": "stdout"
        }
      ]
    },
    {
      "cell_type": "markdown",
      "metadata": {
        "id": "OqTLsz-rVpTJ",
        "colab_type": "text"
      },
      "source": [
        "**training**"
      ]
    },
    {
      "cell_type": "code",
      "metadata": {
        "id": "QLfy9tx2Vsml",
        "colab_type": "code",
        "colab": {
          "base_uri": "https://localhost:8080/",
          "height": 390
        },
        "outputId": "be878a5c-8972-42e8-fc00-cead920302fb"
      },
      "source": [
        "#checkPath = './checkpoints/baseline-weights-improvement-{epoch:02d}.hdf5'\n",
        "#checkpoint = ModelCheckpoint(checkPath, monitor='val_acc', verbose=1, mode='max',save_best_only=True)\n",
        "\n",
        "history = baselineModel.fit(trainInputs, trainLabels,\n",
        "          batch_size=batch_size,\n",
        "          epochs=epoch,\n",
        "          validation_data=(testInputs, testLabels))"
      ],
      "execution_count": 19,
      "outputs": [
        {
          "output_type": "stream",
          "text": [
            "Train on 128000 samples, validate on 32000 samples\n",
            "Epoch 1/10\n",
            "128000/128000 [==============================] - 733s 6ms/step - loss: 0.3572 - acc: 0.8418 - val_loss: 0.4593 - val_acc: 0.7945\n",
            "Epoch 2/10\n",
            "128000/128000 [==============================] - 731s 6ms/step - loss: 0.2654 - acc: 0.8867 - val_loss: 0.5384 - val_acc: 0.7805\n",
            "Epoch 3/10\n",
            "128000/128000 [==============================] - 732s 6ms/step - loss: 0.1851 - acc: 0.9231 - val_loss: 0.6261 - val_acc: 0.7704\n",
            "Epoch 4/10\n",
            "128000/128000 [==============================] - 735s 6ms/step - loss: 0.1251 - acc: 0.9489 - val_loss: 0.8178 - val_acc: 0.7639\n",
            "Epoch 5/10\n",
            "128000/128000 [==============================] - 731s 6ms/step - loss: 0.0873 - acc: 0.9650 - val_loss: 0.9556 - val_acc: 0.7558\n",
            "Epoch 6/10\n",
            "128000/128000 [==============================] - 732s 6ms/step - loss: 0.0638 - acc: 0.9745 - val_loss: 1.1078 - val_acc: 0.7533\n",
            "Epoch 7/10\n",
            "128000/128000 [==============================] - 732s 6ms/step - loss: 0.0493 - acc: 0.9805 - val_loss: 1.2474 - val_acc: 0.7396\n",
            "Epoch 8/10\n",
            "128000/128000 [==============================] - 729s 6ms/step - loss: 0.0387 - acc: 0.9848 - val_loss: 1.4118 - val_acc: 0.7546\n",
            "Epoch 9/10\n",
            "128000/128000 [==============================] - 730s 6ms/step - loss: 0.0308 - acc: 0.9881 - val_loss: 1.4760 - val_acc: 0.7450\n",
            "Epoch 10/10\n",
            "128000/128000 [==============================] - 732s 6ms/step - loss: 0.0259 - acc: 0.9899 - val_loss: 1.5517 - val_acc: 0.7493\n"
          ],
          "name": "stdout"
        }
      ]
    },
    {
      "cell_type": "markdown",
      "metadata": {
        "id": "EpryDBsyYegr",
        "colab_type": "text"
      },
      "source": [
        "**evalutation**"
      ]
    },
    {
      "cell_type": "code",
      "metadata": {
        "id": "9ZZIK6wakFwJ",
        "colab_type": "code",
        "colab": {}
      },
      "source": [
        "import matplotlib.pyplot as plt\n",
        "\n",
        "def PlotEvaluation(history):\n",
        "  plt.style.use('seaborn')\n",
        "  acc = history.history['acc']\n",
        "  val_acc = history.history['val_acc']\n",
        "  loss = history.history['loss']\n",
        "  val_loss = history.history['val_loss']\n",
        "  \n",
        "  x = range(1, len(acc) + 1)\n",
        "\n",
        "  plt.figure(figsize=(18, 4))\n",
        "  plt.subplot(1, 2, 1)\n",
        "  plt.plot(x, acc, 'b', label='Training acc')\n",
        "  plt.plot(x, val_acc, 'r', label='Validation acc')\n",
        "  plt.title('Training and Validation - Accuracy')\n",
        "  plt.xticks(range(1, len(acc)+1, 1))\n",
        "  plt.legend()\n",
        "  plt.subplot(1, 2, 2)\n",
        "  plt.plot(x, loss, 'b', label='Training loss')\n",
        "  plt.plot(x, val_loss, 'r', label='Validation loss')\n",
        "  plt.title('Training and Validation - Loss')\n",
        "  plt.xticks(range(1, len(acc)+1, 1))    \n",
        "  plt.legend()"
      ],
      "execution_count": 20,
      "outputs": []
    },
    {
      "cell_type": "code",
      "metadata": {
        "id": "qxJmW0Imj0Dv",
        "colab_type": "code",
        "colab": {
          "base_uri": "https://localhost:8080/",
          "height": 359
        },
        "outputId": "d4723136-6010-437d-ac83-c91d6c760479"
      },
      "source": [
        "lossTrainBase, accTrainBase = baselineModel.evaluate(trainInputs, trainLabels, batch_size=batch_size)\n",
        "print(\"The results for the baseline model using under training set have an accuracy of {0} and a loss of {1}\".format(lossTrainBase, accTrainBase))\n",
        "\n",
        "lossTestBase, accTestBase = baselineModel.evaluate(testInputs, testLabels, batch_size=batch_size)\n",
        "print(\"The results for the baseline model using under testing set have an accuracy of {0} and a loss of {1}\".format(lossTestBase, accTestBase))\n",
        "\n",
        "PlotEvaluation(history)"
      ],
      "execution_count": 21,
      "outputs": [
        {
          "output_type": "stream",
          "text": [
            "128000/128000 [==============================] - 55s 427us/step\n",
            "The results for the baseline model using under training set have an accuracy of 0.012525999813743511 and a loss of 0.9953437447547913\n",
            "32000/32000 [==============================] - 13s 420us/step\n",
            "The results for the baseline model using under testing set have an accuracy of 1.5517427724152804 and a loss of 0.7493125200271606\n"
          ],
          "name": "stdout"
        },
        {
          "output_type": "display_data",
          "data": {
            "image/png": "[encoded data removed]",
            "text/plain": [
              "<Figure size 1296x288 with 2 Axes>"
            ]
          },
          "metadata": {
            "tags": []
          }
        }
      ]
    },
    {
      "cell_type": "markdown",
      "metadata": {
        "id": "da3K8w0YSI2f",
        "colab_type": "text"
      },
      "source": [
        "## Challenging Model: CNN\n",
        "Convolution Neural Networks (CNNs) are a class of deep, feed-forward neural networks, and use a variation of multilayer perceptrons designed to require minimal preprocessing.\n",
        "\n",
        "They are generally know for a major breakthroughs in Image Classification, though they also have perform quite well in NLP classification tasks as, Sentiment Analysis, Span Detection, Auto tagging of customer queries and Topic Categorization."
      ]
    },
    {
      "cell_type": "code",
      "metadata": {
        "id": "S0LpebBKSeIp",
        "colab_type": "code",
        "colab": {}
      },
      "source": [
        "def ChallengerCNN():\n",
        "\n",
        "  max_features = targetVocab\n",
        "  maxlen = maxLength\n",
        "  embedding_size = 128\n",
        "  kernel_size = 5\n",
        "  filters = 64\n",
        "\n",
        "  print('Challenger CNN model building...')\n",
        "  model = Sequential()\n",
        "\n",
        "  model.add(Embedding(max_features, \n",
        "                      embedding_size,\n",
        "                      input_length=maxlen))\n",
        "  model.add(Conv1D(filters,\n",
        "                  kernel_size,\n",
        "                  padding='valid',\n",
        "                  activation='relu',\n",
        "                  strides=1))\n",
        "  model.add(GlobalMaxPooling1D())\n",
        "  model.add(Dense(128, activation=\"relu\"))\n",
        "  model.add(Dropout(0.25))\n",
        "  \n",
        "  model.add(Dense(1))\n",
        "  model.add(Activation('sigmoid'))\n",
        "  \n",
        "  print('Compile Challenger CNN model...')  \n",
        "  model.compile(loss='binary_crossentropy',\n",
        "            optimizer='adam',\n",
        "            metrics=['acc'])\n",
        "\n",
        "  return model"
      ],
      "execution_count": null,
      "outputs": []
    },
    {
      "cell_type": "markdown",
      "metadata": {
        "id": "_DDm618FXsRv",
        "colab_type": "text"
      },
      "source": [
        "**initialization**"
      ]
    },
    {
      "cell_type": "code",
      "metadata": {
        "id": "E9EDnMjSXv6Y",
        "colab_type": "code",
        "colab": {
          "base_uri": "https://localhost:8080/",
          "height": 444
        },
        "outputId": "a47abd9c-d535-4a33-f82a-4430444b6924"
      },
      "source": [
        "batch_size = 32\n",
        "epoch = 10\n",
        "\n",
        "cnnModel = ChallengerCNN()\n",
        "cnnModel.summary()"
      ],
      "execution_count": null,
      "outputs": [
        {
          "output_type": "stream",
          "text": [
            "Challenger CNN model building...\n",
            "Compile challenger CNN model...\n",
            "Model: \"sequential_24\"\n",
            "_________________________________________________________________\n",
            "Layer (type)                 Output Shape              Param #   \n",
            "=================================================================\n",
            "embedding_24 (Embedding)     (None, 58, 128)           8388608   \n",
            "_________________________________________________________________\n",
            "conv1d_22 (Conv1D)           (None, 54, 64)            41024     \n",
            "_________________________________________________________________\n",
            "global_max_pooling1d_20 (Glo (None, 64)                0         \n",
            "_________________________________________________________________\n",
            "dense_42 (Dense)             (None, 128)               8320      \n",
            "_________________________________________________________________\n",
            "dropout_22 (Dropout)         (None, 128)               0         \n",
            "_________________________________________________________________\n",
            "dense_43 (Dense)             (None, 1)                 129       \n",
            "_________________________________________________________________\n",
            "activation_38 (Activation)   (None, 1)                 0         \n",
            "=================================================================\n",
            "Total params: 8,438,081\n",
            "Trainable params: 8,438,081\n",
            "Non-trainable params: 0\n",
            "_________________________________________________________________\n"
          ],
          "name": "stdout"
        }
      ]
    },
    {
      "cell_type": "markdown",
      "metadata": {
        "id": "8k5NKcd_YP1l",
        "colab_type": "text"
      },
      "source": [
        "**training**"
      ]
    },
    {
      "cell_type": "code",
      "metadata": {
        "id": "5HGS7zu3YSja",
        "colab_type": "code",
        "colab": {
          "base_uri": "https://localhost:8080/",
          "height": 801
        },
        "outputId": "bbeb424d-6bd6-49c3-fe76-f7be72c4bc0b"
      },
      "source": [
        "checkPath = './checkpoints/cnn-weights-improvement-{epoch:02d}.hdf5'\n",
        "checkpoint = ModelCheckpoint(checkPath, monitor='val_acc', verbose=1, mode='max',save_best_only=True)\n",
        "\n",
        "history = cnnModel.fit(trainInputs, trainLabels,\n",
        "          batch_size=batch_size,\n",
        "          epochs=epoch,\n",
        "          validation_data=(testInputs, testLabels),\n",
        "          callbacks = [checkpoint])"
      ],
      "execution_count": null,
      "outputs": [
        {
          "output_type": "stream",
          "text": [
            "/usr/local/lib/python3.6/dist-packages/tensorflow/python/framework/indexed_slices.py:434: UserWarning: Converting sparse IndexedSlices to a dense Tensor of unknown shape. This may consume a large amount of memory.\n",
            "  \"Converting sparse IndexedSlices to a dense Tensor of unknown shape. \"\n"
          ],
          "name": "stderr"
        },
        {
          "output_type": "stream",
          "text": [
            "Train on 128000 samples, validate on 32000 samples\n",
            "Epoch 1/10\n",
            "128000/128000 [==============================] - 57s 446us/step - loss: 0.4845 - acc: 0.7645 - val_loss: 0.4480 - val_acc: 0.7915\n",
            "\n",
            "Epoch 00001: val_acc improved from -inf to 0.79153, saving model to ./checkpoints/cnn-weights-improvement-01.hdf5\n",
            "Epoch 2/10\n",
            "128000/128000 [==============================] - 57s 445us/step - loss: 0.3190 - acc: 0.8636 - val_loss: 0.4849 - val_acc: 0.7865\n",
            "\n",
            "Epoch 00002: val_acc did not improve from 0.79153\n",
            "Epoch 3/10\n",
            "128000/128000 [==============================] - 57s 446us/step - loss: 0.1473 - acc: 0.9423 - val_loss: 0.6670 - val_acc: 0.7744\n",
            "\n",
            "Epoch 00003: val_acc did not improve from 0.79153\n",
            "Epoch 4/10\n",
            "128000/128000 [==============================] - 57s 442us/step - loss: 0.0686 - acc: 0.9739 - val_loss: 0.9100 - val_acc: 0.7662\n",
            "\n",
            "Epoch 00004: val_acc did not improve from 0.79153\n",
            "Epoch 5/10\n",
            "128000/128000 [==============================] - 57s 442us/step - loss: 0.0441 - acc: 0.9837 - val_loss: 1.0938 - val_acc: 0.7557\n",
            "\n",
            "Epoch 00005: val_acc did not improve from 0.79153\n",
            "Epoch 6/10\n",
            "128000/128000 [==============================] - 56s 441us/step - loss: 0.0315 - acc: 0.9881 - val_loss: 1.2214 - val_acc: 0.7583\n",
            "\n",
            "Epoch 00006: val_acc did not improve from 0.79153\n",
            "Epoch 7/10\n",
            "128000/128000 [==============================] - 57s 443us/step - loss: 0.0259 - acc: 0.9905 - val_loss: 1.3821 - val_acc: 0.7533\n",
            "\n",
            "Epoch 00007: val_acc did not improve from 0.79153\n",
            "Epoch 8/10\n",
            "128000/128000 [==============================] - 57s 449us/step - loss: 0.0212 - acc: 0.9919 - val_loss: 1.5195 - val_acc: 0.7489\n",
            "\n",
            "Epoch 00008: val_acc did not improve from 0.79153\n",
            "Epoch 9/10\n",
            "128000/128000 [==============================] - 57s 447us/step - loss: 0.0186 - acc: 0.9930 - val_loss: 1.3757 - val_acc: 0.7500\n",
            "\n",
            "Epoch 00009: val_acc did not improve from 0.79153\n",
            "Epoch 10/10\n",
            "128000/128000 [==============================] - 57s 444us/step - loss: 0.0160 - acc: 0.9937 - val_loss: 1.6469 - val_acc: 0.7539\n",
            "\n",
            "Epoch 00010: val_acc did not improve from 0.79153\n"
          ],
          "name": "stdout"
        }
      ]
    },
    {
      "cell_type": "markdown",
      "metadata": {
        "id": "ZzNRlxITZYTg",
        "colab_type": "text"
      },
      "source": [
        "**evaluation**"
      ]
    },
    {
      "cell_type": "code",
      "metadata": {
        "id": "fWjK8VAMZeCU",
        "colab_type": "code",
        "colab": {
          "base_uri": "https://localhost:8080/",
          "height": 339
        },
        "outputId": "09a367d0-9c69-4a95-8720-6c132c8824c0"
      },
      "source": [
        "lossTrainCNN, accTrainCNN= cnnModel.evaluate(trainInputs, trainLabels, batch_size=batch_size)\n",
        "print(\"The results for the CNN model using under training set have an accuracy of {0} and a loss of {1}\".format(lossTrainCNN, accTrainCNN))\n",
        "\n",
        "lossTestCNN, accTestCNN= cnnModel.evaluate(testInputs, testLabels, batch_size=batch_size)\n",
        "print(\"The results for the CNN model using under testing set have an accuracy of {0} and a loss of {1}\".format(lossTestCNN, accTestCNN))\n",
        "\n",
        "PlotEvaluation(history)"
      ],
      "execution_count": null,
      "outputs": [
        {
          "output_type": "stream",
          "text": [
            "128000/128000 [==============================] - 9s 71us/step\n",
            "The results for the CNN model using under training set have an accuracy of 0.009037524285920768 and a loss of 0.9962812662124634\n",
            "32000/32000 [==============================] - 2s 72us/step\n",
            "The results for the CNN model using under testing set have an accuracy of 1.6468651015758515 and a loss of 0.75390625\n"
          ],
          "name": "stdout"
        },
        {
          "output_type": "display_data",
          "data": {
            "image/png": "[encoded data removed]",
            "text/plain": [
              "<Figure size 1296x288 with 2 Axes>"
            ]
          },
          "metadata": {
            "tags": []
          }
        }
      ]
    },
    {
      "cell_type": "markdown",
      "metadata": {
        "id": "4Dj1bQGNSen7",
        "colab_type": "text"
      },
      "source": [
        "## Challenging Model: CNN-LSTM\n",
        "CNNs models are trained to recognize patterns across space, while the CNN-LSTM are a class of models learn patterns both in space and time."
      ]
    },
    {
      "cell_type": "code",
      "metadata": {
        "id": "blmHgkYYSqmU",
        "colab_type": "code",
        "colab": {}
      },
      "source": [
        "def ChallengerLSTM():\n",
        "  max_features = targetVocab\n",
        "  maxlen = maxLength\n",
        "  embedding_size = 128\n",
        "  kernel_size = 5\n",
        "  filters = 64\n",
        "\n",
        "  print('Challenger CNN-LSTM model building...')\n",
        "  model = Sequential()\n",
        "\n",
        "  model.add(Embedding(max_features, \n",
        "                      embedding_size, \n",
        "                      input_length=maxlen))  \n",
        "  model.add(Conv1D(filters,\n",
        "                  kernel_size,\n",
        "                  padding='valid',\n",
        "                  activation='relu'))\n",
        "  model.add(MaxPooling1D(pool_size=4))\n",
        "  model.add(LSTM(128, dropout=0.2))\n",
        "  \n",
        "  model.add(Dense(1))\n",
        "  model.add(Activation('sigmoid'))\n",
        "  \n",
        "  print('Compile challenger CNN-LSTM model...')  \n",
        "  model.compile(loss='binary_crossentropy',\n",
        "            optimizer='adam',\n",
        "            metrics=['acc'])\n",
        "\n",
        "  return model"
      ],
      "execution_count": null,
      "outputs": []
    },
    {
      "cell_type": "markdown",
      "metadata": {
        "id": "PD-S6MYzalfN",
        "colab_type": "text"
      },
      "source": [
        "**initialization**"
      ]
    },
    {
      "cell_type": "code",
      "metadata": {
        "id": "N4PXHLWWaqo6",
        "colab_type": "code",
        "colab": {
          "base_uri": "https://localhost:8080/",
          "height": 408
        },
        "outputId": "873a8bea-be02-455a-c6ea-a8132a3c4e15"
      },
      "source": [
        "batch_size = 32\n",
        "epoch = 10\n",
        "\n",
        "lstmModel = ChallengerLSTM()\n",
        "lstmModel.summary()"
      ],
      "execution_count": null,
      "outputs": [
        {
          "output_type": "stream",
          "text": [
            "Challenger CNN-LSTM model building...\n",
            "Compile challenger CNN-LSTM model...\n",
            "Model: \"sequential_32\"\n",
            "_________________________________________________________________\n",
            "Layer (type)                 Output Shape              Param #   \n",
            "=================================================================\n",
            "embedding_32 (Embedding)     (None, 58, 128)           8388608   \n",
            "_________________________________________________________________\n",
            "conv1d_30 (Conv1D)           (None, 54, 64)            41024     \n",
            "_________________________________________________________________\n",
            "max_pooling1d_4 (MaxPooling1 (None, 13, 64)            0         \n",
            "_________________________________________________________________\n",
            "lstm_9 (LSTM)                (None, 128)               98816     \n",
            "_________________________________________________________________\n",
            "dense_47 (Dense)             (None, 1)                 129       \n",
            "_________________________________________________________________\n",
            "activation_42 (Activation)   (None, 1)                 0         \n",
            "=================================================================\n",
            "Total params: 8,528,577\n",
            "Trainable params: 8,528,577\n",
            "Non-trainable params: 0\n",
            "_________________________________________________________________\n"
          ],
          "name": "stdout"
        }
      ]
    },
    {
      "cell_type": "markdown",
      "metadata": {
        "id": "KS_5eYuaarW4",
        "colab_type": "text"
      },
      "source": [
        "**training**"
      ]
    },
    {
      "cell_type": "code",
      "metadata": {
        "id": "IQpFDQAsauhM",
        "colab_type": "code",
        "colab": {
          "base_uri": "https://localhost:8080/",
          "height": 801
        },
        "outputId": "c556f66a-d11e-4ee9-b2c9-5e4464ea2607"
      },
      "source": [
        "checkPath = './checkpoints/lstm-weights-improvement-{epoch:02d}.hdf5'\n",
        "checkpoint = ModelCheckpoint(checkPath, monitor='val_acc', verbose=1, mode='max',save_best_only=True)\n",
        "\n",
        "history = lstmModel.fit(trainInputs, trainLabels,\n",
        "          batch_size=batch_size,\n",
        "          epochs=epoch,\n",
        "          validation_data=(testInputs, testLabels),\n",
        "          callbacks = [checkpoint])"
      ],
      "execution_count": null,
      "outputs": [
        {
          "output_type": "stream",
          "text": [
            "/usr/local/lib/python3.6/dist-packages/tensorflow/python/framework/indexed_slices.py:434: UserWarning: Converting sparse IndexedSlices to a dense Tensor of unknown shape. This may consume a large amount of memory.\n",
            "  \"Converting sparse IndexedSlices to a dense Tensor of unknown shape. \"\n"
          ],
          "name": "stderr"
        },
        {
          "output_type": "stream",
          "text": [
            "Train on 128000 samples, validate on 32000 samples\n",
            "Epoch 1/10\n",
            "128000/128000 [==============================] - 245s 2ms/step - loss: 0.5358 - acc: 0.7288 - val_loss: 0.5100 - val_acc: 0.7495\n",
            "\n",
            "Epoch 00001: val_acc improved from -inf to 0.74953, saving model to ./checkpoints/lstm-weights-improvement-01.hdf5\n",
            "Epoch 2/10\n",
            "128000/128000 [==============================] - 243s 2ms/step - loss: 0.4105 - acc: 0.8126 - val_loss: 0.5264 - val_acc: 0.7440\n",
            "\n",
            "Epoch 00002: val_acc did not improve from 0.74953\n",
            "Epoch 3/10\n",
            "128000/128000 [==============================] - 243s 2ms/step - loss: 0.2801 - acc: 0.8779 - val_loss: 0.6460 - val_acc: 0.7292\n",
            "\n",
            "Epoch 00003: val_acc did not improve from 0.74953\n",
            "Epoch 4/10\n",
            "128000/128000 [==============================] - 241s 2ms/step - loss: 0.1878 - acc: 0.9206 - val_loss: 0.8378 - val_acc: 0.7233\n",
            "\n",
            "Epoch 00004: val_acc did not improve from 0.74953\n",
            "Epoch 5/10\n",
            "128000/128000 [==============================] - 239s 2ms/step - loss: 0.1403 - acc: 0.9404 - val_loss: 0.9807 - val_acc: 0.7155\n",
            "\n",
            "Epoch 00005: val_acc did not improve from 0.74953\n",
            "Epoch 6/10\n",
            "128000/128000 [==============================] - 242s 2ms/step - loss: 0.1134 - acc: 0.9507 - val_loss: 1.1336 - val_acc: 0.7107\n",
            "\n",
            "Epoch 00006: val_acc did not improve from 0.74953\n",
            "Epoch 7/10\n",
            "128000/128000 [==============================] - 240s 2ms/step - loss: 0.0969 - acc: 0.9573 - val_loss: 1.2105 - val_acc: 0.7056\n",
            "\n",
            "Epoch 00007: val_acc did not improve from 0.74953\n",
            "Epoch 8/10\n",
            "128000/128000 [==============================] - 240s 2ms/step - loss: 0.0870 - acc: 0.9616 - val_loss: 1.3374 - val_acc: 0.6985\n",
            "\n",
            "Epoch 00008: val_acc did not improve from 0.74953\n",
            "Epoch 9/10\n",
            "128000/128000 [==============================] - 237s 2ms/step - loss: 0.0783 - acc: 0.9653 - val_loss: 1.4668 - val_acc: 0.7071\n",
            "\n",
            "Epoch 00009: val_acc did not improve from 0.74953\n",
            "Epoch 10/10\n",
            "128000/128000 [==============================] - 239s 2ms/step - loss: 0.0730 - acc: 0.9671 - val_loss: 1.3548 - val_acc: 0.7024\n",
            "\n",
            "Epoch 00010: val_acc did not improve from 0.74953\n"
          ],
          "name": "stdout"
        }
      ]
    },
    {
      "cell_type": "markdown",
      "metadata": {
        "id": "tF1MuYRiaw_J",
        "colab_type": "text"
      },
      "source": [
        "**evaluation**"
      ]
    },
    {
      "cell_type": "code",
      "metadata": {
        "id": "WmQLSJzia0LM",
        "colab_type": "code",
        "colab": {
          "base_uri": "https://localhost:8080/",
          "height": 359
        },
        "outputId": "3b2cd13c-3a82-43d6-eaeb-632c306b8a9c"
      },
      "source": [
        "lossTrainLSTM, accTrainLSTM= lstmModel.evaluate(trainInputs, trainLabels, batch_size=batch_size)\n",
        "print(\"The results for the CNN-LSTM model using under training set have an accuracy of {0} and a loss of {1}\".format(lossTrainLSTM, accTrainLSTM))\n",
        "\n",
        "lossTestLSTM, accTestLSTM= lstmModel.evaluate(testInputs, testLabels, batch_size=batch_size)\n",
        "print(\"The results for the CNN-LSTM model using under testing set have an accuracy of {0} and a loss of {1}\".format(lossTestLSTM, accTestLSTM))\n",
        "\n",
        "PlotEvaluation(history)"
      ],
      "execution_count": null,
      "outputs": [
        {
          "output_type": "stream",
          "text": [
            "128000/128000 [==============================] - 22s 169us/step\n",
            "The results for the CNN-LSTM model using under training set have an accuracy of 0.0528342776171994 and a loss of 0.9765546917915344\n",
            "32000/32000 [==============================] - 5s 170us/step\n",
            "The results for the CNN-LSTM model using under testing set have an accuracy of 1.354821656793356 and a loss of 0.7024062275886536\n"
          ],
          "name": "stdout"
        },
        {
          "output_type": "display_data",
          "data": {
            "image/png": "[encoded data removed]",
            "text/plain": [
              "<Figure size 1296x288 with 2 Axes>"
            ]
          },
          "metadata": {
            "tags": []
          }
        }
      ]
    },
    {
      "cell_type": "markdown",
      "metadata": {
        "id": "bxFEtmlYpAJs",
        "colab_type": "text"
      },
      "source": [
        "## Final model\n",
        "The CNN model is here revisited: a additional SpatialDropout layer was added and some of its hyperparameters were tuned.\n"
      ]
    },
    {
      "cell_type": "code",
      "metadata": {
        "id": "BqU17nObpZab",
        "colab_type": "code",
        "colab": {}
      },
      "source": [
        "def FinalModel():\n",
        "\n",
        "  max_features = targetVocab\n",
        "  maxlen = maxLength\n",
        "  embedding_size = 128\n",
        "  kernel_size = 5\n",
        "  filters = 64\n",
        "\n",
        "  print('CNN final model building...')\n",
        "  model = Sequential()\n",
        "\n",
        "  model.add(Embedding(max_features, \n",
        "                      embedding_size,\n",
        "                      input_length=maxlen))\n",
        "  model.add(SpatialDropout1D(0.5))\n",
        "  model.add(Conv1D(filters,\n",
        "                  kernel_size,\n",
        "                  padding='same',\n",
        "                  activation='relu',\n",
        "                  strides=1))\n",
        "  model.add(GlobalMaxPooling1D())\n",
        "  model.add(Dense(1024))\n",
        "  model.add(Dropout(0.4))\n",
        "  model.add(Activation('relu'))\n",
        "\n",
        "  model.add(Dense(1))\n",
        "  model.add(Activation('sigmoid'))\n",
        "  \n",
        "  print('Compile CNN final model...')  \n",
        "  model.compile(loss='binary_crossentropy',\n",
        "            optimizer='adam',\n",
        "            metrics=['acc'])\n",
        "\n",
        "  return model"
      ],
      "execution_count": 31,
      "outputs": []
    },
    {
      "cell_type": "markdown",
      "metadata": {
        "id": "MvhIRICipbBO",
        "colab_type": "text"
      },
      "source": [
        "**initialization**"
      ]
    },
    {
      "cell_type": "code",
      "metadata": {
        "id": "iIxtJj8IpgjU",
        "colab_type": "code",
        "colab": {
          "base_uri": "https://localhost:8080/",
          "height": 515
        },
        "outputId": "65736d80-103b-449b-de36-64580a6c49a1"
      },
      "source": [
        "batch_size = 32\n",
        "epoch = 10\n",
        "\n",
        "cnnFinalModel = FinalModel()\n",
        "cnnFinalModel.summary()"
      ],
      "execution_count": null,
      "outputs": [
        {
          "output_type": "stream",
          "text": [
            "CNN final model building...\n",
            "Compile CNN final model...\n",
            "Model: \"sequential_26\"\n",
            "_________________________________________________________________\n",
            "Layer (type)                 Output Shape              Param #   \n",
            "=================================================================\n",
            "embedding_26 (Embedding)     (None, 58, 128)           8388608   \n",
            "_________________________________________________________________\n",
            "spatial_dropout1d_17 (Spatia (None, 58, 128)           0         \n",
            "_________________________________________________________________\n",
            "conv1d_24 (Conv1D)           (None, 58, 64)            41024     \n",
            "_________________________________________________________________\n",
            "global_max_pooling1d_21 (Glo (None, 64)                0         \n",
            "_________________________________________________________________\n",
            "dense_45 (Dense)             (None, 1024)              66560     \n",
            "_________________________________________________________________\n",
            "dropout_24 (Dropout)         (None, 1024)              0         \n",
            "_________________________________________________________________\n",
            "activation_40 (Activation)   (None, 1024)              0         \n",
            "_________________________________________________________________\n",
            "dense_46 (Dense)             (None, 1)                 1025      \n",
            "_________________________________________________________________\n",
            "activation_41 (Activation)   (None, 1)                 0         \n",
            "=================================================================\n",
            "Total params: 8,497,217\n",
            "Trainable params: 8,497,217\n",
            "Non-trainable params: 0\n",
            "_________________________________________________________________\n"
          ],
          "name": "stdout"
        }
      ]
    },
    {
      "cell_type": "markdown",
      "metadata": {
        "id": "KQylqbbTphh0",
        "colab_type": "text"
      },
      "source": [
        "**training**"
      ]
    },
    {
      "cell_type": "code",
      "metadata": {
        "id": "waZfmvOypmBi",
        "colab_type": "code",
        "colab": {
          "base_uri": "https://localhost:8080/",
          "height": 801
        },
        "outputId": "8eab123c-4702-420c-dcac-110194add0f4"
      },
      "source": [
        "checkPath = './checkpoints/cnnFinal-weights-improvement-{epoch:02d}.hdf5'\n",
        "checkpoint = ModelCheckpoint(checkPath, monitor='val_acc', verbose=1, mode='max',save_best_only=True)\n",
        "\n",
        "history = cnnFinalModel.fit(trainInputs, trainLabels,\n",
        "          batch_size=batch_size,\n",
        "          epochs=epoch,\n",
        "          validation_data=(testInputs, testLabels),\n",
        "          callbacks = [checkpoint])"
      ],
      "execution_count": null,
      "outputs": [
        {
          "output_type": "stream",
          "text": [
            "/usr/local/lib/python3.6/dist-packages/tensorflow/python/framework/indexed_slices.py:434: UserWarning: Converting sparse IndexedSlices to a dense Tensor of unknown shape. This may consume a large amount of memory.\n",
            "  \"Converting sparse IndexedSlices to a dense Tensor of unknown shape. \"\n"
          ],
          "name": "stderr"
        },
        {
          "output_type": "stream",
          "text": [
            "Train on 128000 samples, validate on 32000 samples\n",
            "Epoch 1/10\n",
            "128000/128000 [==============================] - 59s 458us/step - loss: 0.4965 - acc: 0.7552 - val_loss: 0.4498 - val_acc: 0.7888\n",
            "\n",
            "Epoch 00001: val_acc improved from -inf to 0.78884, saving model to ./checkpoints/cnnFinal-weights-improvement-01.hdf5\n",
            "Epoch 2/10\n",
            "128000/128000 [==============================] - 59s 458us/step - loss: 0.3875 - acc: 0.8282 - val_loss: 0.4450 - val_acc: 0.7985\n",
            "\n",
            "Epoch 00002: val_acc improved from 0.78884 to 0.79850, saving model to ./checkpoints/cnnFinal-weights-improvement-02.hdf5\n",
            "Epoch 3/10\n",
            "128000/128000 [==============================] - 59s 458us/step - loss: 0.3121 - acc: 0.8677 - val_loss: 0.4752 - val_acc: 0.7875\n",
            "\n",
            "Epoch 00003: val_acc did not improve from 0.79850\n",
            "Epoch 4/10\n",
            "128000/128000 [==============================] - 58s 451us/step - loss: 0.2514 - acc: 0.8968 - val_loss: 0.5400 - val_acc: 0.7833\n",
            "\n",
            "Epoch 00004: val_acc did not improve from 0.79850\n",
            "Epoch 5/10\n",
            "128000/128000 [==============================] - 58s 453us/step - loss: 0.2066 - acc: 0.9163 - val_loss: 0.6112 - val_acc: 0.7773\n",
            "\n",
            "Epoch 00005: val_acc did not improve from 0.79850\n",
            "Epoch 6/10\n",
            "128000/128000 [==============================] - 58s 452us/step - loss: 0.1723 - acc: 0.9312 - val_loss: 0.7025 - val_acc: 0.7752\n",
            "\n",
            "Epoch 00006: val_acc did not improve from 0.79850\n",
            "Epoch 7/10\n",
            "128000/128000 [==============================] - 58s 454us/step - loss: 0.1482 - acc: 0.9412 - val_loss: 0.7344 - val_acc: 0.7677\n",
            "\n",
            "Epoch 00007: val_acc did not improve from 0.79850\n",
            "Epoch 8/10\n",
            "128000/128000 [==============================] - 58s 454us/step - loss: 0.1304 - acc: 0.9481 - val_loss: 0.8134 - val_acc: 0.7707\n",
            "\n",
            "Epoch 00008: val_acc did not improve from 0.79850\n",
            "Epoch 9/10\n",
            "128000/128000 [==============================] - 58s 455us/step - loss: 0.1161 - acc: 0.9543 - val_loss: 0.8743 - val_acc: 0.7599\n",
            "\n",
            "Epoch 00009: val_acc did not improve from 0.79850\n",
            "Epoch 10/10\n",
            "128000/128000 [==============================] - 58s 454us/step - loss: 0.1055 - acc: 0.9584 - val_loss: 0.9198 - val_acc: 0.7642\n",
            "\n",
            "Epoch 00010: val_acc did not improve from 0.79850\n"
          ],
          "name": "stdout"
        }
      ]
    },
    {
      "cell_type": "markdown",
      "metadata": {
        "id": "RqwsLkOppmzY",
        "colab_type": "text"
      },
      "source": [
        "**evaluation**"
      ]
    },
    {
      "cell_type": "code",
      "metadata": {
        "id": "8mlTCuE7ppV5",
        "colab_type": "code",
        "colab": {
          "base_uri": "https://localhost:8080/",
          "height": 338
        },
        "outputId": "4cbde9f3-01d3-4365-ae7f-1f849f83dff9"
      },
      "source": [
        "lossTrainFinal, accTrainFinal= cnnFinalModel.evaluate(trainInputs, trainLabels, batch_size=batch_size)\n",
        "print(\"The results for the final model using under training set have an accuracy of {0} and a loss of {1}\".format(lossTrainFinal, accTrainFinal))\n",
        "\n",
        "lossTestFinal, accTestFinal= cnnFinalModel.evaluate(testInputs, testLabels, batch_size=batch_size)\n",
        "print(\"The results for the final model using under testing set have an accuracy of {0} and a loss of {1}\".format(lossTestFinal, accTestFinal))\n",
        "\n",
        "PlotEvaluation(history)"
      ],
      "execution_count": null,
      "outputs": [
        {
          "output_type": "stream",
          "text": [
            "128000/128000 [==============================] - 10s 76us/step\n",
            "The results for the final model using under training set have an accuracy of 0.04365232822598773 and a loss of 0.9848437309265137\n",
            "32000/32000 [==============================] - 2s 76us/step\n",
            "The results for the final model using under testing set have an accuracy of 0.9198314712941646 and a loss of 0.7642187476158142\n"
          ],
          "name": "stdout"
        },
        {
          "output_type": "display_data",
          "data": {
            "image/png": "[encoded data removed]",
            "text/plain": [
              "<Figure size 1296x288 with 2 Axes>"
            ]
          },
          "metadata": {
            "tags": []
          }
        }
      ]
    }
  ]
}